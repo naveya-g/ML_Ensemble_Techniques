{
  "cells": [
    {
      "cell_type": "markdown",
      "metadata": {
        "id": "OAFsEYEJNxCz"
      },
      "source": [
        "DOMAIN: ***Telecom***\n",
        "\n",
        "• CONTEXT: A telecom company wants to use their historical customer data and leverage machine learning to predict behaviour in an attempt\n",
        "to retain customers. The end goal is to develop focused customer retention programs\n",
        "\n",
        "• DATA DESCRIPTION: Each row represents a customer, each column contains customer’s attributes described on the column Metadata. The\n",
        "data set includes information about:\n",
        "\n",
        "• Customers who left within the last month – the column is called Churn\n",
        "\n",
        "• Services that each customer has signed up for – phone, multiple lines, internet, online security, online backup, device protection, tech support, and streaming TV and movies\n",
        "\n",
        "• Customer account information – how long they’ve been a customer, contract, payment method, paperless billing, monthly charges, and total charges\n",
        "\n",
        "• Demographic info about customers – gender, age range, and if they have partners and dependents\n",
        "\n",
        "• PROJECT OBJECTIVE: The objective, as a data scientist hired by the telecom company, is to build a model that will help to identify the\n",
        "potential customers who have a higher probability to churn. This will help the company to understand the pain points and patterns of customer\n",
        "churn and will increase the focus on strategising customer retention."
      ]
    },
    {
      "cell_type": "markdown",
      "metadata": {
        "id": "3MiblEk0Q3T_"
      },
      "source": [
        "### **Import Libraries**"
      ]
    },
    {
      "cell_type": "code",
      "execution_count": null,
      "metadata": {
        "id": "2C2GWUl5Nl6s"
      },
      "outputs": [],
      "source": [
        "#Import Libraries\n",
        "import numpy as np\n",
        "import pandas as pd\n",
        "import matplotlib.pyplot as plt\n",
        "import warnings\n",
        "warnings.filterwarnings('ignore')\n",
        "import seaborn as sns"
      ]
    },
    {
      "cell_type": "code",
      "execution_count": null,
      "metadata": {
        "id": "pk38XnR3dZMe"
      },
      "outputs": [],
      "source": [
        "%matplotlib inline"
      ]
    },
    {
      "cell_type": "code",
      "execution_count": null,
      "metadata": {
        "colab": {
          "base_uri": "https://localhost:8080/"
        },
        "id": "5hE2co4H-c_d",
        "outputId": "a8485d08-2206-4fa5-ff11-82ce7ba8a6b3"
      },
      "outputs": [
        {
          "output_type": "stream",
          "name": "stdout",
          "text": [
            "Drive already mounted at /content/drive; to attempt to forcibly remount, call drive.mount(\"/content/drive\", force_remount=True).\n"
          ]
        }
      ],
      "source": [
        "from google.colab import drive\n",
        "drive.mount('/content/drive')"
      ]
    },
    {
      "cell_type": "markdown",
      "metadata": {
        "id": "ZOwFHnZh_1gJ"
      },
      "source": [
        "## **1. Data Understanding & Exploration**"
      ]
    },
    {
      "cell_type": "markdown",
      "metadata": {
        "id": "N3EjanGq_7G2"
      },
      "source": [
        "**A. Read ‘TelcomCustomer-Churn_1.csv’ as a DataFrame and assign it to a variable.**\n",
        "\n",
        "**B. Read ‘TelcomCustomer-Churn_2.csv’ as a DataFrame and assign it to a variable.**"
      ]
    },
    {
      "cell_type": "code",
      "execution_count": null,
      "metadata": {
        "id": "NqRhCgmI_yd6"
      },
      "outputs": [],
      "source": [
        "#Read the csv file\n",
        "churn_1=pd.read_csv('/content/drive/MyDrive/Colab Notebooks/ML/ET/TelcomCustomer-Churn_1.csv')\n",
        "churn_2=pd.read_csv('/content/drive/MyDrive/Colab Notebooks/ML/ET/TelcomCustomer-Churn_2.csv')"
      ]
    },
    {
      "cell_type": "code",
      "execution_count": null,
      "metadata": {
        "colab": {
          "base_uri": "https://localhost:8080/",
          "height": 206
        },
        "id": "AFD7B5eqCXMk",
        "outputId": "2217213e-9bec-489e-d301-2a5b54fa8378"
      },
      "outputs": [
        {
          "output_type": "execute_result",
          "data": {
            "text/plain": [
              "   customerID  gender  SeniorCitizen Partner Dependents  tenure PhoneService  \\\n",
              "0  7590-VHVEG  Female              0     Yes         No       1           No   \n",
              "1  5575-GNVDE    Male              0      No         No      34          Yes   \n",
              "2  3668-QPYBK    Male              0      No         No       2          Yes   \n",
              "3  7795-CFOCW    Male              0      No         No      45           No   \n",
              "4  9237-HQITU  Female              0      No         No       2          Yes   \n",
              "\n",
              "      MultipleLines InternetService OnlineSecurity  \n",
              "0  No phone service             DSL             No  \n",
              "1                No             DSL            Yes  \n",
              "2                No             DSL            Yes  \n",
              "3  No phone service             DSL            Yes  \n",
              "4                No     Fiber optic             No  "
            ],
            "text/html": [
              "\n",
              "  <div id=\"df-ce9848df-01cf-4189-8402-e14a97457a5d\" class=\"colab-df-container\">\n",
              "    <div>\n",
              "<style scoped>\n",
              "    .dataframe tbody tr th:only-of-type {\n",
              "        vertical-align: middle;\n",
              "    }\n",
              "\n",
              "    .dataframe tbody tr th {\n",
              "        vertical-align: top;\n",
              "    }\n",
              "\n",
              "    .dataframe thead th {\n",
              "        text-align: right;\n",
              "    }\n",
              "</style>\n",
              "<table border=\"1\" class=\"dataframe\">\n",
              "  <thead>\n",
              "    <tr style=\"text-align: right;\">\n",
              "      <th></th>\n",
              "      <th>customerID</th>\n",
              "      <th>gender</th>\n",
              "      <th>SeniorCitizen</th>\n",
              "      <th>Partner</th>\n",
              "      <th>Dependents</th>\n",
              "      <th>tenure</th>\n",
              "      <th>PhoneService</th>\n",
              "      <th>MultipleLines</th>\n",
              "      <th>InternetService</th>\n",
              "      <th>OnlineSecurity</th>\n",
              "    </tr>\n",
              "  </thead>\n",
              "  <tbody>\n",
              "    <tr>\n",
              "      <th>0</th>\n",
              "      <td>7590-VHVEG</td>\n",
              "      <td>Female</td>\n",
              "      <td>0</td>\n",
              "      <td>Yes</td>\n",
              "      <td>No</td>\n",
              "      <td>1</td>\n",
              "      <td>No</td>\n",
              "      <td>No phone service</td>\n",
              "      <td>DSL</td>\n",
              "      <td>No</td>\n",
              "    </tr>\n",
              "    <tr>\n",
              "      <th>1</th>\n",
              "      <td>5575-GNVDE</td>\n",
              "      <td>Male</td>\n",
              "      <td>0</td>\n",
              "      <td>No</td>\n",
              "      <td>No</td>\n",
              "      <td>34</td>\n",
              "      <td>Yes</td>\n",
              "      <td>No</td>\n",
              "      <td>DSL</td>\n",
              "      <td>Yes</td>\n",
              "    </tr>\n",
              "    <tr>\n",
              "      <th>2</th>\n",
              "      <td>3668-QPYBK</td>\n",
              "      <td>Male</td>\n",
              "      <td>0</td>\n",
              "      <td>No</td>\n",
              "      <td>No</td>\n",
              "      <td>2</td>\n",
              "      <td>Yes</td>\n",
              "      <td>No</td>\n",
              "      <td>DSL</td>\n",
              "      <td>Yes</td>\n",
              "    </tr>\n",
              "    <tr>\n",
              "      <th>3</th>\n",
              "      <td>7795-CFOCW</td>\n",
              "      <td>Male</td>\n",
              "      <td>0</td>\n",
              "      <td>No</td>\n",
              "      <td>No</td>\n",
              "      <td>45</td>\n",
              "      <td>No</td>\n",
              "      <td>No phone service</td>\n",
              "      <td>DSL</td>\n",
              "      <td>Yes</td>\n",
              "    </tr>\n",
              "    <tr>\n",
              "      <th>4</th>\n",
              "      <td>9237-HQITU</td>\n",
              "      <td>Female</td>\n",
              "      <td>0</td>\n",
              "      <td>No</td>\n",
              "      <td>No</td>\n",
              "      <td>2</td>\n",
              "      <td>Yes</td>\n",
              "      <td>No</td>\n",
              "      <td>Fiber optic</td>\n",
              "      <td>No</td>\n",
              "    </tr>\n",
              "  </tbody>\n",
              "</table>\n",
              "</div>\n",
              "    <div class=\"colab-df-buttons\">\n",
              "\n",
              "  <div class=\"colab-df-container\">\n",
              "    <button class=\"colab-df-convert\" onclick=\"convertToInteractive('df-ce9848df-01cf-4189-8402-e14a97457a5d')\"\n",
              "            title=\"Convert this dataframe to an interactive table.\"\n",
              "            style=\"display:none;\">\n",
              "\n",
              "  <svg xmlns=\"http://www.w3.org/2000/svg\" height=\"24px\" viewBox=\"0 -960 960 960\">\n",
              "    <path d=\"M120-120v-720h720v720H120Zm60-500h600v-160H180v160Zm220 220h160v-160H400v160Zm0 220h160v-160H400v160ZM180-400h160v-160H180v160Zm440 0h160v-160H620v160ZM180-180h160v-160H180v160Zm440 0h160v-160H620v160Z\"/>\n",
              "  </svg>\n",
              "    </button>\n",
              "\n",
              "  <style>\n",
              "    .colab-df-container {\n",
              "      display:flex;\n",
              "      gap: 12px;\n",
              "    }\n",
              "\n",
              "    .colab-df-convert {\n",
              "      background-color: #E8F0FE;\n",
              "      border: none;\n",
              "      border-radius: 50%;\n",
              "      cursor: pointer;\n",
              "      display: none;\n",
              "      fill: #1967D2;\n",
              "      height: 32px;\n",
              "      padding: 0 0 0 0;\n",
              "      width: 32px;\n",
              "    }\n",
              "\n",
              "    .colab-df-convert:hover {\n",
              "      background-color: #E2EBFA;\n",
              "      box-shadow: 0px 1px 2px rgba(60, 64, 67, 0.3), 0px 1px 3px 1px rgba(60, 64, 67, 0.15);\n",
              "      fill: #174EA6;\n",
              "    }\n",
              "\n",
              "    .colab-df-buttons div {\n",
              "      margin-bottom: 4px;\n",
              "    }\n",
              "\n",
              "    [theme=dark] .colab-df-convert {\n",
              "      background-color: #3B4455;\n",
              "      fill: #D2E3FC;\n",
              "    }\n",
              "\n",
              "    [theme=dark] .colab-df-convert:hover {\n",
              "      background-color: #434B5C;\n",
              "      box-shadow: 0px 1px 3px 1px rgba(0, 0, 0, 0.15);\n",
              "      filter: drop-shadow(0px 1px 2px rgba(0, 0, 0, 0.3));\n",
              "      fill: #FFFFFF;\n",
              "    }\n",
              "  </style>\n",
              "\n",
              "    <script>\n",
              "      const buttonEl =\n",
              "        document.querySelector('#df-ce9848df-01cf-4189-8402-e14a97457a5d button.colab-df-convert');\n",
              "      buttonEl.style.display =\n",
              "        google.colab.kernel.accessAllowed ? 'block' : 'none';\n",
              "\n",
              "      async function convertToInteractive(key) {\n",
              "        const element = document.querySelector('#df-ce9848df-01cf-4189-8402-e14a97457a5d');\n",
              "        const dataTable =\n",
              "          await google.colab.kernel.invokeFunction('convertToInteractive',\n",
              "                                                    [key], {});\n",
              "        if (!dataTable) return;\n",
              "\n",
              "        const docLinkHtml = 'Like what you see? Visit the ' +\n",
              "          '<a target=\"_blank\" href=https://colab.research.google.com/notebooks/data_table.ipynb>data table notebook</a>'\n",
              "          + ' to learn more about interactive tables.';\n",
              "        element.innerHTML = '';\n",
              "        dataTable['output_type'] = 'display_data';\n",
              "        await google.colab.output.renderOutput(dataTable, element);\n",
              "        const docLink = document.createElement('div');\n",
              "        docLink.innerHTML = docLinkHtml;\n",
              "        element.appendChild(docLink);\n",
              "      }\n",
              "    </script>\n",
              "  </div>\n",
              "\n",
              "\n",
              "<div id=\"df-e072f52f-5faa-4dda-9635-d1df46102166\">\n",
              "  <button class=\"colab-df-quickchart\" onclick=\"quickchart('df-e072f52f-5faa-4dda-9635-d1df46102166')\"\n",
              "            title=\"Suggest charts\"\n",
              "            style=\"display:none;\">\n",
              "\n",
              "<svg xmlns=\"http://www.w3.org/2000/svg\" height=\"24px\"viewBox=\"0 0 24 24\"\n",
              "     width=\"24px\">\n",
              "    <g>\n",
              "        <path d=\"M19 3H5c-1.1 0-2 .9-2 2v14c0 1.1.9 2 2 2h14c1.1 0 2-.9 2-2V5c0-1.1-.9-2-2-2zM9 17H7v-7h2v7zm4 0h-2V7h2v10zm4 0h-2v-4h2v4z\"/>\n",
              "    </g>\n",
              "</svg>\n",
              "  </button>\n",
              "\n",
              "<style>\n",
              "  .colab-df-quickchart {\n",
              "      --bg-color: #E8F0FE;\n",
              "      --fill-color: #1967D2;\n",
              "      --hover-bg-color: #E2EBFA;\n",
              "      --hover-fill-color: #174EA6;\n",
              "      --disabled-fill-color: #AAA;\n",
              "      --disabled-bg-color: #DDD;\n",
              "  }\n",
              "\n",
              "  [theme=dark] .colab-df-quickchart {\n",
              "      --bg-color: #3B4455;\n",
              "      --fill-color: #D2E3FC;\n",
              "      --hover-bg-color: #434B5C;\n",
              "      --hover-fill-color: #FFFFFF;\n",
              "      --disabled-bg-color: #3B4455;\n",
              "      --disabled-fill-color: #666;\n",
              "  }\n",
              "\n",
              "  .colab-df-quickchart {\n",
              "    background-color: var(--bg-color);\n",
              "    border: none;\n",
              "    border-radius: 50%;\n",
              "    cursor: pointer;\n",
              "    display: none;\n",
              "    fill: var(--fill-color);\n",
              "    height: 32px;\n",
              "    padding: 0;\n",
              "    width: 32px;\n",
              "  }\n",
              "\n",
              "  .colab-df-quickchart:hover {\n",
              "    background-color: var(--hover-bg-color);\n",
              "    box-shadow: 0 1px 2px rgba(60, 64, 67, 0.3), 0 1px 3px 1px rgba(60, 64, 67, 0.15);\n",
              "    fill: var(--button-hover-fill-color);\n",
              "  }\n",
              "\n",
              "  .colab-df-quickchart-complete:disabled,\n",
              "  .colab-df-quickchart-complete:disabled:hover {\n",
              "    background-color: var(--disabled-bg-color);\n",
              "    fill: var(--disabled-fill-color);\n",
              "    box-shadow: none;\n",
              "  }\n",
              "\n",
              "  .colab-df-spinner {\n",
              "    border: 2px solid var(--fill-color);\n",
              "    border-color: transparent;\n",
              "    border-bottom-color: var(--fill-color);\n",
              "    animation:\n",
              "      spin 1s steps(1) infinite;\n",
              "  }\n",
              "\n",
              "  @keyframes spin {\n",
              "    0% {\n",
              "      border-color: transparent;\n",
              "      border-bottom-color: var(--fill-color);\n",
              "      border-left-color: var(--fill-color);\n",
              "    }\n",
              "    20% {\n",
              "      border-color: transparent;\n",
              "      border-left-color: var(--fill-color);\n",
              "      border-top-color: var(--fill-color);\n",
              "    }\n",
              "    30% {\n",
              "      border-color: transparent;\n",
              "      border-left-color: var(--fill-color);\n",
              "      border-top-color: var(--fill-color);\n",
              "      border-right-color: var(--fill-color);\n",
              "    }\n",
              "    40% {\n",
              "      border-color: transparent;\n",
              "      border-right-color: var(--fill-color);\n",
              "      border-top-color: var(--fill-color);\n",
              "    }\n",
              "    60% {\n",
              "      border-color: transparent;\n",
              "      border-right-color: var(--fill-color);\n",
              "    }\n",
              "    80% {\n",
              "      border-color: transparent;\n",
              "      border-right-color: var(--fill-color);\n",
              "      border-bottom-color: var(--fill-color);\n",
              "    }\n",
              "    90% {\n",
              "      border-color: transparent;\n",
              "      border-bottom-color: var(--fill-color);\n",
              "    }\n",
              "  }\n",
              "</style>\n",
              "\n",
              "  <script>\n",
              "    async function quickchart(key) {\n",
              "      const quickchartButtonEl =\n",
              "        document.querySelector('#' + key + ' button');\n",
              "      quickchartButtonEl.disabled = true;  // To prevent multiple clicks.\n",
              "      quickchartButtonEl.classList.add('colab-df-spinner');\n",
              "      try {\n",
              "        const charts = await google.colab.kernel.invokeFunction(\n",
              "            'suggestCharts', [key], {});\n",
              "      } catch (error) {\n",
              "        console.error('Error during call to suggestCharts:', error);\n",
              "      }\n",
              "      quickchartButtonEl.classList.remove('colab-df-spinner');\n",
              "      quickchartButtonEl.classList.add('colab-df-quickchart-complete');\n",
              "    }\n",
              "    (() => {\n",
              "      let quickchartButtonEl =\n",
              "        document.querySelector('#df-e072f52f-5faa-4dda-9635-d1df46102166 button');\n",
              "      quickchartButtonEl.style.display =\n",
              "        google.colab.kernel.accessAllowed ? 'block' : 'none';\n",
              "    })();\n",
              "  </script>\n",
              "</div>\n",
              "\n",
              "    </div>\n",
              "  </div>\n"
            ],
            "application/vnd.google.colaboratory.intrinsic+json": {
              "type": "dataframe",
              "variable_name": "churn_1",
              "summary": "{\n  \"name\": \"churn_1\",\n  \"rows\": 7043,\n  \"fields\": [\n    {\n      \"column\": \"customerID\",\n      \"properties\": {\n        \"dtype\": \"string\",\n        \"num_unique_values\": 7043,\n        \"samples\": [\n          \"1024-GUALD\",\n          \"0484-JPBRU\",\n          \"3620-EHIMZ\"\n        ],\n        \"semantic_type\": \"\",\n        \"description\": \"\"\n      }\n    },\n    {\n      \"column\": \"gender\",\n      \"properties\": {\n        \"dtype\": \"category\",\n        \"num_unique_values\": 2,\n        \"samples\": [\n          \"Male\",\n          \"Female\"\n        ],\n        \"semantic_type\": \"\",\n        \"description\": \"\"\n      }\n    },\n    {\n      \"column\": \"SeniorCitizen\",\n      \"properties\": {\n        \"dtype\": \"number\",\n        \"std\": 0,\n        \"min\": 0,\n        \"max\": 1,\n        \"num_unique_values\": 2,\n        \"samples\": [\n          1,\n          0\n        ],\n        \"semantic_type\": \"\",\n        \"description\": \"\"\n      }\n    },\n    {\n      \"column\": \"Partner\",\n      \"properties\": {\n        \"dtype\": \"category\",\n        \"num_unique_values\": 2,\n        \"samples\": [\n          \"No\",\n          \"Yes\"\n        ],\n        \"semantic_type\": \"\",\n        \"description\": \"\"\n      }\n    },\n    {\n      \"column\": \"Dependents\",\n      \"properties\": {\n        \"dtype\": \"category\",\n        \"num_unique_values\": 2,\n        \"samples\": [\n          \"Yes\",\n          \"No\"\n        ],\n        \"semantic_type\": \"\",\n        \"description\": \"\"\n      }\n    },\n    {\n      \"column\": \"tenure\",\n      \"properties\": {\n        \"dtype\": \"number\",\n        \"std\": 24,\n        \"min\": 0,\n        \"max\": 72,\n        \"num_unique_values\": 73,\n        \"samples\": [\n          8,\n          40\n        ],\n        \"semantic_type\": \"\",\n        \"description\": \"\"\n      }\n    },\n    {\n      \"column\": \"PhoneService\",\n      \"properties\": {\n        \"dtype\": \"category\",\n        \"num_unique_values\": 2,\n        \"samples\": [\n          \"Yes\",\n          \"No\"\n        ],\n        \"semantic_type\": \"\",\n        \"description\": \"\"\n      }\n    },\n    {\n      \"column\": \"MultipleLines\",\n      \"properties\": {\n        \"dtype\": \"category\",\n        \"num_unique_values\": 3,\n        \"samples\": [\n          \"No phone service\",\n          \"No\"\n        ],\n        \"semantic_type\": \"\",\n        \"description\": \"\"\n      }\n    },\n    {\n      \"column\": \"InternetService\",\n      \"properties\": {\n        \"dtype\": \"category\",\n        \"num_unique_values\": 3,\n        \"samples\": [\n          \"DSL\",\n          \"Fiber optic\"\n        ],\n        \"semantic_type\": \"\",\n        \"description\": \"\"\n      }\n    },\n    {\n      \"column\": \"OnlineSecurity\",\n      \"properties\": {\n        \"dtype\": \"category\",\n        \"num_unique_values\": 3,\n        \"samples\": [\n          \"No\",\n          \"Yes\"\n        ],\n        \"semantic_type\": \"\",\n        \"description\": \"\"\n      }\n    }\n  ]\n}"
            }
          },
          "metadata": {},
          "execution_count": 53
        }
      ],
      "source": [
        "churn_1.head()"
      ]
    },
    {
      "cell_type": "code",
      "execution_count": null,
      "metadata": {
        "colab": {
          "base_uri": "https://localhost:8080/",
          "height": 313
        },
        "id": "dZ06TvviCkk1",
        "outputId": "ca3940a1-dd64-4dbf-cee9-c7944cd4e10b"
      },
      "outputs": [
        {
          "output_type": "execute_result",
          "data": {
            "text/plain": [
              "   customerID OnlineBackup DeviceProtection TechSupport StreamingTV  \\\n",
              "0  7590-VHVEG          Yes               No          No          No   \n",
              "1  5575-GNVDE           No              Yes          No          No   \n",
              "2  3668-QPYBK          Yes               No          No          No   \n",
              "3  7795-CFOCW           No              Yes         Yes          No   \n",
              "4  9237-HQITU           No               No          No          No   \n",
              "\n",
              "  StreamingMovies        Contract PaperlessBilling              PaymentMethod  \\\n",
              "0              No  Month-to-month              Yes           Electronic check   \n",
              "1              No        One year               No               Mailed check   \n",
              "2              No  Month-to-month              Yes               Mailed check   \n",
              "3              No        One year               No  Bank transfer (automatic)   \n",
              "4              No  Month-to-month              Yes           Electronic check   \n",
              "\n",
              "   MonthlyCharges TotalCharges Churn  \n",
              "0           29.85        29.85    No  \n",
              "1           56.95       1889.5    No  \n",
              "2           53.85       108.15   Yes  \n",
              "3           42.30      1840.75    No  \n",
              "4           70.70       151.65   Yes  "
            ],
            "text/html": [
              "\n",
              "  <div id=\"df-5e1cc901-c460-492c-9c29-188aae29a008\" class=\"colab-df-container\">\n",
              "    <div>\n",
              "<style scoped>\n",
              "    .dataframe tbody tr th:only-of-type {\n",
              "        vertical-align: middle;\n",
              "    }\n",
              "\n",
              "    .dataframe tbody tr th {\n",
              "        vertical-align: top;\n",
              "    }\n",
              "\n",
              "    .dataframe thead th {\n",
              "        text-align: right;\n",
              "    }\n",
              "</style>\n",
              "<table border=\"1\" class=\"dataframe\">\n",
              "  <thead>\n",
              "    <tr style=\"text-align: right;\">\n",
              "      <th></th>\n",
              "      <th>customerID</th>\n",
              "      <th>OnlineBackup</th>\n",
              "      <th>DeviceProtection</th>\n",
              "      <th>TechSupport</th>\n",
              "      <th>StreamingTV</th>\n",
              "      <th>StreamingMovies</th>\n",
              "      <th>Contract</th>\n",
              "      <th>PaperlessBilling</th>\n",
              "      <th>PaymentMethod</th>\n",
              "      <th>MonthlyCharges</th>\n",
              "      <th>TotalCharges</th>\n",
              "      <th>Churn</th>\n",
              "    </tr>\n",
              "  </thead>\n",
              "  <tbody>\n",
              "    <tr>\n",
              "      <th>0</th>\n",
              "      <td>7590-VHVEG</td>\n",
              "      <td>Yes</td>\n",
              "      <td>No</td>\n",
              "      <td>No</td>\n",
              "      <td>No</td>\n",
              "      <td>No</td>\n",
              "      <td>Month-to-month</td>\n",
              "      <td>Yes</td>\n",
              "      <td>Electronic check</td>\n",
              "      <td>29.85</td>\n",
              "      <td>29.85</td>\n",
              "      <td>No</td>\n",
              "    </tr>\n",
              "    <tr>\n",
              "      <th>1</th>\n",
              "      <td>5575-GNVDE</td>\n",
              "      <td>No</td>\n",
              "      <td>Yes</td>\n",
              "      <td>No</td>\n",
              "      <td>No</td>\n",
              "      <td>No</td>\n",
              "      <td>One year</td>\n",
              "      <td>No</td>\n",
              "      <td>Mailed check</td>\n",
              "      <td>56.95</td>\n",
              "      <td>1889.5</td>\n",
              "      <td>No</td>\n",
              "    </tr>\n",
              "    <tr>\n",
              "      <th>2</th>\n",
              "      <td>3668-QPYBK</td>\n",
              "      <td>Yes</td>\n",
              "      <td>No</td>\n",
              "      <td>No</td>\n",
              "      <td>No</td>\n",
              "      <td>No</td>\n",
              "      <td>Month-to-month</td>\n",
              "      <td>Yes</td>\n",
              "      <td>Mailed check</td>\n",
              "      <td>53.85</td>\n",
              "      <td>108.15</td>\n",
              "      <td>Yes</td>\n",
              "    </tr>\n",
              "    <tr>\n",
              "      <th>3</th>\n",
              "      <td>7795-CFOCW</td>\n",
              "      <td>No</td>\n",
              "      <td>Yes</td>\n",
              "      <td>Yes</td>\n",
              "      <td>No</td>\n",
              "      <td>No</td>\n",
              "      <td>One year</td>\n",
              "      <td>No</td>\n",
              "      <td>Bank transfer (automatic)</td>\n",
              "      <td>42.30</td>\n",
              "      <td>1840.75</td>\n",
              "      <td>No</td>\n",
              "    </tr>\n",
              "    <tr>\n",
              "      <th>4</th>\n",
              "      <td>9237-HQITU</td>\n",
              "      <td>No</td>\n",
              "      <td>No</td>\n",
              "      <td>No</td>\n",
              "      <td>No</td>\n",
              "      <td>No</td>\n",
              "      <td>Month-to-month</td>\n",
              "      <td>Yes</td>\n",
              "      <td>Electronic check</td>\n",
              "      <td>70.70</td>\n",
              "      <td>151.65</td>\n",
              "      <td>Yes</td>\n",
              "    </tr>\n",
              "  </tbody>\n",
              "</table>\n",
              "</div>\n",
              "    <div class=\"colab-df-buttons\">\n",
              "\n",
              "  <div class=\"colab-df-container\">\n",
              "    <button class=\"colab-df-convert\" onclick=\"convertToInteractive('df-5e1cc901-c460-492c-9c29-188aae29a008')\"\n",
              "            title=\"Convert this dataframe to an interactive table.\"\n",
              "            style=\"display:none;\">\n",
              "\n",
              "  <svg xmlns=\"http://www.w3.org/2000/svg\" height=\"24px\" viewBox=\"0 -960 960 960\">\n",
              "    <path d=\"M120-120v-720h720v720H120Zm60-500h600v-160H180v160Zm220 220h160v-160H400v160Zm0 220h160v-160H400v160ZM180-400h160v-160H180v160Zm440 0h160v-160H620v160ZM180-180h160v-160H180v160Zm440 0h160v-160H620v160Z\"/>\n",
              "  </svg>\n",
              "    </button>\n",
              "\n",
              "  <style>\n",
              "    .colab-df-container {\n",
              "      display:flex;\n",
              "      gap: 12px;\n",
              "    }\n",
              "\n",
              "    .colab-df-convert {\n",
              "      background-color: #E8F0FE;\n",
              "      border: none;\n",
              "      border-radius: 50%;\n",
              "      cursor: pointer;\n",
              "      display: none;\n",
              "      fill: #1967D2;\n",
              "      height: 32px;\n",
              "      padding: 0 0 0 0;\n",
              "      width: 32px;\n",
              "    }\n",
              "\n",
              "    .colab-df-convert:hover {\n",
              "      background-color: #E2EBFA;\n",
              "      box-shadow: 0px 1px 2px rgba(60, 64, 67, 0.3), 0px 1px 3px 1px rgba(60, 64, 67, 0.15);\n",
              "      fill: #174EA6;\n",
              "    }\n",
              "\n",
              "    .colab-df-buttons div {\n",
              "      margin-bottom: 4px;\n",
              "    }\n",
              "\n",
              "    [theme=dark] .colab-df-convert {\n",
              "      background-color: #3B4455;\n",
              "      fill: #D2E3FC;\n",
              "    }\n",
              "\n",
              "    [theme=dark] .colab-df-convert:hover {\n",
              "      background-color: #434B5C;\n",
              "      box-shadow: 0px 1px 3px 1px rgba(0, 0, 0, 0.15);\n",
              "      filter: drop-shadow(0px 1px 2px rgba(0, 0, 0, 0.3));\n",
              "      fill: #FFFFFF;\n",
              "    }\n",
              "  </style>\n",
              "\n",
              "    <script>\n",
              "      const buttonEl =\n",
              "        document.querySelector('#df-5e1cc901-c460-492c-9c29-188aae29a008 button.colab-df-convert');\n",
              "      buttonEl.style.display =\n",
              "        google.colab.kernel.accessAllowed ? 'block' : 'none';\n",
              "\n",
              "      async function convertToInteractive(key) {\n",
              "        const element = document.querySelector('#df-5e1cc901-c460-492c-9c29-188aae29a008');\n",
              "        const dataTable =\n",
              "          await google.colab.kernel.invokeFunction('convertToInteractive',\n",
              "                                                    [key], {});\n",
              "        if (!dataTable) return;\n",
              "\n",
              "        const docLinkHtml = 'Like what you see? Visit the ' +\n",
              "          '<a target=\"_blank\" href=https://colab.research.google.com/notebooks/data_table.ipynb>data table notebook</a>'\n",
              "          + ' to learn more about interactive tables.';\n",
              "        element.innerHTML = '';\n",
              "        dataTable['output_type'] = 'display_data';\n",
              "        await google.colab.output.renderOutput(dataTable, element);\n",
              "        const docLink = document.createElement('div');\n",
              "        docLink.innerHTML = docLinkHtml;\n",
              "        element.appendChild(docLink);\n",
              "      }\n",
              "    </script>\n",
              "  </div>\n",
              "\n",
              "\n",
              "<div id=\"df-6a24f44b-ea9c-4289-940e-2aa21f5ebc0b\">\n",
              "  <button class=\"colab-df-quickchart\" onclick=\"quickchart('df-6a24f44b-ea9c-4289-940e-2aa21f5ebc0b')\"\n",
              "            title=\"Suggest charts\"\n",
              "            style=\"display:none;\">\n",
              "\n",
              "<svg xmlns=\"http://www.w3.org/2000/svg\" height=\"24px\"viewBox=\"0 0 24 24\"\n",
              "     width=\"24px\">\n",
              "    <g>\n",
              "        <path d=\"M19 3H5c-1.1 0-2 .9-2 2v14c0 1.1.9 2 2 2h14c1.1 0 2-.9 2-2V5c0-1.1-.9-2-2-2zM9 17H7v-7h2v7zm4 0h-2V7h2v10zm4 0h-2v-4h2v4z\"/>\n",
              "    </g>\n",
              "</svg>\n",
              "  </button>\n",
              "\n",
              "<style>\n",
              "  .colab-df-quickchart {\n",
              "      --bg-color: #E8F0FE;\n",
              "      --fill-color: #1967D2;\n",
              "      --hover-bg-color: #E2EBFA;\n",
              "      --hover-fill-color: #174EA6;\n",
              "      --disabled-fill-color: #AAA;\n",
              "      --disabled-bg-color: #DDD;\n",
              "  }\n",
              "\n",
              "  [theme=dark] .colab-df-quickchart {\n",
              "      --bg-color: #3B4455;\n",
              "      --fill-color: #D2E3FC;\n",
              "      --hover-bg-color: #434B5C;\n",
              "      --hover-fill-color: #FFFFFF;\n",
              "      --disabled-bg-color: #3B4455;\n",
              "      --disabled-fill-color: #666;\n",
              "  }\n",
              "\n",
              "  .colab-df-quickchart {\n",
              "    background-color: var(--bg-color);\n",
              "    border: none;\n",
              "    border-radius: 50%;\n",
              "    cursor: pointer;\n",
              "    display: none;\n",
              "    fill: var(--fill-color);\n",
              "    height: 32px;\n",
              "    padding: 0;\n",
              "    width: 32px;\n",
              "  }\n",
              "\n",
              "  .colab-df-quickchart:hover {\n",
              "    background-color: var(--hover-bg-color);\n",
              "    box-shadow: 0 1px 2px rgba(60, 64, 67, 0.3), 0 1px 3px 1px rgba(60, 64, 67, 0.15);\n",
              "    fill: var(--button-hover-fill-color);\n",
              "  }\n",
              "\n",
              "  .colab-df-quickchart-complete:disabled,\n",
              "  .colab-df-quickchart-complete:disabled:hover {\n",
              "    background-color: var(--disabled-bg-color);\n",
              "    fill: var(--disabled-fill-color);\n",
              "    box-shadow: none;\n",
              "  }\n",
              "\n",
              "  .colab-df-spinner {\n",
              "    border: 2px solid var(--fill-color);\n",
              "    border-color: transparent;\n",
              "    border-bottom-color: var(--fill-color);\n",
              "    animation:\n",
              "      spin 1s steps(1) infinite;\n",
              "  }\n",
              "\n",
              "  @keyframes spin {\n",
              "    0% {\n",
              "      border-color: transparent;\n",
              "      border-bottom-color: var(--fill-color);\n",
              "      border-left-color: var(--fill-color);\n",
              "    }\n",
              "    20% {\n",
              "      border-color: transparent;\n",
              "      border-left-color: var(--fill-color);\n",
              "      border-top-color: var(--fill-color);\n",
              "    }\n",
              "    30% {\n",
              "      border-color: transparent;\n",
              "      border-left-color: var(--fill-color);\n",
              "      border-top-color: var(--fill-color);\n",
              "      border-right-color: var(--fill-color);\n",
              "    }\n",
              "    40% {\n",
              "      border-color: transparent;\n",
              "      border-right-color: var(--fill-color);\n",
              "      border-top-color: var(--fill-color);\n",
              "    }\n",
              "    60% {\n",
              "      border-color: transparent;\n",
              "      border-right-color: var(--fill-color);\n",
              "    }\n",
              "    80% {\n",
              "      border-color: transparent;\n",
              "      border-right-color: var(--fill-color);\n",
              "      border-bottom-color: var(--fill-color);\n",
              "    }\n",
              "    90% {\n",
              "      border-color: transparent;\n",
              "      border-bottom-color: var(--fill-color);\n",
              "    }\n",
              "  }\n",
              "</style>\n",
              "\n",
              "  <script>\n",
              "    async function quickchart(key) {\n",
              "      const quickchartButtonEl =\n",
              "        document.querySelector('#' + key + ' button');\n",
              "      quickchartButtonEl.disabled = true;  // To prevent multiple clicks.\n",
              "      quickchartButtonEl.classList.add('colab-df-spinner');\n",
              "      try {\n",
              "        const charts = await google.colab.kernel.invokeFunction(\n",
              "            'suggestCharts', [key], {});\n",
              "      } catch (error) {\n",
              "        console.error('Error during call to suggestCharts:', error);\n",
              "      }\n",
              "      quickchartButtonEl.classList.remove('colab-df-spinner');\n",
              "      quickchartButtonEl.classList.add('colab-df-quickchart-complete');\n",
              "    }\n",
              "    (() => {\n",
              "      let quickchartButtonEl =\n",
              "        document.querySelector('#df-6a24f44b-ea9c-4289-940e-2aa21f5ebc0b button');\n",
              "      quickchartButtonEl.style.display =\n",
              "        google.colab.kernel.accessAllowed ? 'block' : 'none';\n",
              "    })();\n",
              "  </script>\n",
              "</div>\n",
              "\n",
              "    </div>\n",
              "  </div>\n"
            ],
            "application/vnd.google.colaboratory.intrinsic+json": {
              "type": "dataframe",
              "variable_name": "churn_2",
              "summary": "{\n  \"name\": \"churn_2\",\n  \"rows\": 7043,\n  \"fields\": [\n    {\n      \"column\": \"customerID\",\n      \"properties\": {\n        \"dtype\": \"string\",\n        \"num_unique_values\": 7043,\n        \"samples\": [\n          \"1024-GUALD\",\n          \"0484-JPBRU\",\n          \"3620-EHIMZ\"\n        ],\n        \"semantic_type\": \"\",\n        \"description\": \"\"\n      }\n    },\n    {\n      \"column\": \"OnlineBackup\",\n      \"properties\": {\n        \"dtype\": \"category\",\n        \"num_unique_values\": 3,\n        \"samples\": [\n          \"Yes\",\n          \"No\",\n          \"No internet service\"\n        ],\n        \"semantic_type\": \"\",\n        \"description\": \"\"\n      }\n    },\n    {\n      \"column\": \"DeviceProtection\",\n      \"properties\": {\n        \"dtype\": \"category\",\n        \"num_unique_values\": 3,\n        \"samples\": [\n          \"No\",\n          \"Yes\",\n          \"No internet service\"\n        ],\n        \"semantic_type\": \"\",\n        \"description\": \"\"\n      }\n    },\n    {\n      \"column\": \"TechSupport\",\n      \"properties\": {\n        \"dtype\": \"category\",\n        \"num_unique_values\": 3,\n        \"samples\": [\n          \"No\",\n          \"Yes\",\n          \"No internet service\"\n        ],\n        \"semantic_type\": \"\",\n        \"description\": \"\"\n      }\n    },\n    {\n      \"column\": \"StreamingTV\",\n      \"properties\": {\n        \"dtype\": \"category\",\n        \"num_unique_values\": 3,\n        \"samples\": [\n          \"No\",\n          \"Yes\",\n          \"No internet service\"\n        ],\n        \"semantic_type\": \"\",\n        \"description\": \"\"\n      }\n    },\n    {\n      \"column\": \"StreamingMovies\",\n      \"properties\": {\n        \"dtype\": \"category\",\n        \"num_unique_values\": 3,\n        \"samples\": [\n          \"No\",\n          \"Yes\",\n          \"No internet service\"\n        ],\n        \"semantic_type\": \"\",\n        \"description\": \"\"\n      }\n    },\n    {\n      \"column\": \"Contract\",\n      \"properties\": {\n        \"dtype\": \"category\",\n        \"num_unique_values\": 3,\n        \"samples\": [\n          \"Month-to-month\",\n          \"One year\",\n          \"Two year\"\n        ],\n        \"semantic_type\": \"\",\n        \"description\": \"\"\n      }\n    },\n    {\n      \"column\": \"PaperlessBilling\",\n      \"properties\": {\n        \"dtype\": \"category\",\n        \"num_unique_values\": 2,\n        \"samples\": [\n          \"No\",\n          \"Yes\"\n        ],\n        \"semantic_type\": \"\",\n        \"description\": \"\"\n      }\n    },\n    {\n      \"column\": \"PaymentMethod\",\n      \"properties\": {\n        \"dtype\": \"category\",\n        \"num_unique_values\": 4,\n        \"samples\": [\n          \"Mailed check\",\n          \"Credit card (automatic)\"\n        ],\n        \"semantic_type\": \"\",\n        \"description\": \"\"\n      }\n    },\n    {\n      \"column\": \"MonthlyCharges\",\n      \"properties\": {\n        \"dtype\": \"number\",\n        \"std\": 30.090047097678493,\n        \"min\": 18.25,\n        \"max\": 118.75,\n        \"num_unique_values\": 1585,\n        \"samples\": [\n          48.85,\n          20.05\n        ],\n        \"semantic_type\": \"\",\n        \"description\": \"\"\n      }\n    },\n    {\n      \"column\": \"TotalCharges\",\n      \"properties\": {\n        \"dtype\": \"string\",\n        \"num_unique_values\": 6531,\n        \"samples\": [\n          \"4600.7\",\n          \"20.35\"\n        ],\n        \"semantic_type\": \"\",\n        \"description\": \"\"\n      }\n    },\n    {\n      \"column\": \"Churn\",\n      \"properties\": {\n        \"dtype\": \"category\",\n        \"num_unique_values\": 2,\n        \"samples\": [\n          \"Yes\",\n          \"No\"\n        ],\n        \"semantic_type\": \"\",\n        \"description\": \"\"\n      }\n    }\n  ]\n}"
            }
          },
          "metadata": {},
          "execution_count": 54
        }
      ],
      "source": [
        "churn_2.head()"
      ]
    },
    {
      "cell_type": "code",
      "source": [
        "churn_1.shape, churn_2.shape"
      ],
      "metadata": {
        "colab": {
          "base_uri": "https://localhost:8080/"
        },
        "id": "ZWdw_hOjPcC_",
        "outputId": "d71cecd8-6418-4a0d-c180-7a798e6d252b"
      },
      "execution_count": null,
      "outputs": [
        {
          "output_type": "execute_result",
          "data": {
            "text/plain": [
              "((7043, 10), (7043, 12))"
            ]
          },
          "metadata": {},
          "execution_count": 55
        }
      ]
    },
    {
      "cell_type": "markdown",
      "metadata": {
        "id": "UZOfi5UBB45O"
      },
      "source": [
        "**C. Merge both the DataFrames on key ‘customerID’ to form a single DataFrame**"
      ]
    },
    {
      "cell_type": "code",
      "execution_count": null,
      "metadata": {
        "id": "cgvA-Vu3B1Lg"
      },
      "outputs": [],
      "source": [
        "df=pd.merge(churn_1,churn_2, on='customerID')"
      ]
    },
    {
      "cell_type": "code",
      "source": [
        "df.head()"
      ],
      "metadata": {
        "colab": {
          "base_uri": "https://localhost:8080/",
          "height": 342
        },
        "id": "KuSSHSsUg_qG",
        "outputId": "6df98415-8f14-42c6-b5b7-4336114e612e"
      },
      "execution_count": null,
      "outputs": [
        {
          "output_type": "execute_result",
          "data": {
            "text/plain": [
              "   customerID  gender  SeniorCitizen Partner Dependents  tenure PhoneService  \\\n",
              "0  7590-VHVEG  Female              0     Yes         No       1           No   \n",
              "1  5575-GNVDE    Male              0      No         No      34          Yes   \n",
              "2  3668-QPYBK    Male              0      No         No       2          Yes   \n",
              "3  7795-CFOCW    Male              0      No         No      45           No   \n",
              "4  9237-HQITU  Female              0      No         No       2          Yes   \n",
              "\n",
              "      MultipleLines InternetService OnlineSecurity  ... DeviceProtection  \\\n",
              "0  No phone service             DSL             No  ...               No   \n",
              "1                No             DSL            Yes  ...              Yes   \n",
              "2                No             DSL            Yes  ...               No   \n",
              "3  No phone service             DSL            Yes  ...              Yes   \n",
              "4                No     Fiber optic             No  ...               No   \n",
              "\n",
              "  TechSupport StreamingTV StreamingMovies        Contract PaperlessBilling  \\\n",
              "0          No          No              No  Month-to-month              Yes   \n",
              "1          No          No              No        One year               No   \n",
              "2          No          No              No  Month-to-month              Yes   \n",
              "3         Yes          No              No        One year               No   \n",
              "4          No          No              No  Month-to-month              Yes   \n",
              "\n",
              "               PaymentMethod MonthlyCharges  TotalCharges Churn  \n",
              "0           Electronic check          29.85         29.85    No  \n",
              "1               Mailed check          56.95        1889.5    No  \n",
              "2               Mailed check          53.85        108.15   Yes  \n",
              "3  Bank transfer (automatic)          42.30       1840.75    No  \n",
              "4           Electronic check          70.70        151.65   Yes  \n",
              "\n",
              "[5 rows x 21 columns]"
            ],
            "text/html": [
              "\n",
              "  <div id=\"df-b7debcac-3122-4860-93fe-44d84d6e8b3d\" class=\"colab-df-container\">\n",
              "    <div>\n",
              "<style scoped>\n",
              "    .dataframe tbody tr th:only-of-type {\n",
              "        vertical-align: middle;\n",
              "    }\n",
              "\n",
              "    .dataframe tbody tr th {\n",
              "        vertical-align: top;\n",
              "    }\n",
              "\n",
              "    .dataframe thead th {\n",
              "        text-align: right;\n",
              "    }\n",
              "</style>\n",
              "<table border=\"1\" class=\"dataframe\">\n",
              "  <thead>\n",
              "    <tr style=\"text-align: right;\">\n",
              "      <th></th>\n",
              "      <th>customerID</th>\n",
              "      <th>gender</th>\n",
              "      <th>SeniorCitizen</th>\n",
              "      <th>Partner</th>\n",
              "      <th>Dependents</th>\n",
              "      <th>tenure</th>\n",
              "      <th>PhoneService</th>\n",
              "      <th>MultipleLines</th>\n",
              "      <th>InternetService</th>\n",
              "      <th>OnlineSecurity</th>\n",
              "      <th>...</th>\n",
              "      <th>DeviceProtection</th>\n",
              "      <th>TechSupport</th>\n",
              "      <th>StreamingTV</th>\n",
              "      <th>StreamingMovies</th>\n",
              "      <th>Contract</th>\n",
              "      <th>PaperlessBilling</th>\n",
              "      <th>PaymentMethod</th>\n",
              "      <th>MonthlyCharges</th>\n",
              "      <th>TotalCharges</th>\n",
              "      <th>Churn</th>\n",
              "    </tr>\n",
              "  </thead>\n",
              "  <tbody>\n",
              "    <tr>\n",
              "      <th>0</th>\n",
              "      <td>7590-VHVEG</td>\n",
              "      <td>Female</td>\n",
              "      <td>0</td>\n",
              "      <td>Yes</td>\n",
              "      <td>No</td>\n",
              "      <td>1</td>\n",
              "      <td>No</td>\n",
              "      <td>No phone service</td>\n",
              "      <td>DSL</td>\n",
              "      <td>No</td>\n",
              "      <td>...</td>\n",
              "      <td>No</td>\n",
              "      <td>No</td>\n",
              "      <td>No</td>\n",
              "      <td>No</td>\n",
              "      <td>Month-to-month</td>\n",
              "      <td>Yes</td>\n",
              "      <td>Electronic check</td>\n",
              "      <td>29.85</td>\n",
              "      <td>29.85</td>\n",
              "      <td>No</td>\n",
              "    </tr>\n",
              "    <tr>\n",
              "      <th>1</th>\n",
              "      <td>5575-GNVDE</td>\n",
              "      <td>Male</td>\n",
              "      <td>0</td>\n",
              "      <td>No</td>\n",
              "      <td>No</td>\n",
              "      <td>34</td>\n",
              "      <td>Yes</td>\n",
              "      <td>No</td>\n",
              "      <td>DSL</td>\n",
              "      <td>Yes</td>\n",
              "      <td>...</td>\n",
              "      <td>Yes</td>\n",
              "      <td>No</td>\n",
              "      <td>No</td>\n",
              "      <td>No</td>\n",
              "      <td>One year</td>\n",
              "      <td>No</td>\n",
              "      <td>Mailed check</td>\n",
              "      <td>56.95</td>\n",
              "      <td>1889.5</td>\n",
              "      <td>No</td>\n",
              "    </tr>\n",
              "    <tr>\n",
              "      <th>2</th>\n",
              "      <td>3668-QPYBK</td>\n",
              "      <td>Male</td>\n",
              "      <td>0</td>\n",
              "      <td>No</td>\n",
              "      <td>No</td>\n",
              "      <td>2</td>\n",
              "      <td>Yes</td>\n",
              "      <td>No</td>\n",
              "      <td>DSL</td>\n",
              "      <td>Yes</td>\n",
              "      <td>...</td>\n",
              "      <td>No</td>\n",
              "      <td>No</td>\n",
              "      <td>No</td>\n",
              "      <td>No</td>\n",
              "      <td>Month-to-month</td>\n",
              "      <td>Yes</td>\n",
              "      <td>Mailed check</td>\n",
              "      <td>53.85</td>\n",
              "      <td>108.15</td>\n",
              "      <td>Yes</td>\n",
              "    </tr>\n",
              "    <tr>\n",
              "      <th>3</th>\n",
              "      <td>7795-CFOCW</td>\n",
              "      <td>Male</td>\n",
              "      <td>0</td>\n",
              "      <td>No</td>\n",
              "      <td>No</td>\n",
              "      <td>45</td>\n",
              "      <td>No</td>\n",
              "      <td>No phone service</td>\n",
              "      <td>DSL</td>\n",
              "      <td>Yes</td>\n",
              "      <td>...</td>\n",
              "      <td>Yes</td>\n",
              "      <td>Yes</td>\n",
              "      <td>No</td>\n",
              "      <td>No</td>\n",
              "      <td>One year</td>\n",
              "      <td>No</td>\n",
              "      <td>Bank transfer (automatic)</td>\n",
              "      <td>42.30</td>\n",
              "      <td>1840.75</td>\n",
              "      <td>No</td>\n",
              "    </tr>\n",
              "    <tr>\n",
              "      <th>4</th>\n",
              "      <td>9237-HQITU</td>\n",
              "      <td>Female</td>\n",
              "      <td>0</td>\n",
              "      <td>No</td>\n",
              "      <td>No</td>\n",
              "      <td>2</td>\n",
              "      <td>Yes</td>\n",
              "      <td>No</td>\n",
              "      <td>Fiber optic</td>\n",
              "      <td>No</td>\n",
              "      <td>...</td>\n",
              "      <td>No</td>\n",
              "      <td>No</td>\n",
              "      <td>No</td>\n",
              "      <td>No</td>\n",
              "      <td>Month-to-month</td>\n",
              "      <td>Yes</td>\n",
              "      <td>Electronic check</td>\n",
              "      <td>70.70</td>\n",
              "      <td>151.65</td>\n",
              "      <td>Yes</td>\n",
              "    </tr>\n",
              "  </tbody>\n",
              "</table>\n",
              "<p>5 rows × 21 columns</p>\n",
              "</div>\n",
              "    <div class=\"colab-df-buttons\">\n",
              "\n",
              "  <div class=\"colab-df-container\">\n",
              "    <button class=\"colab-df-convert\" onclick=\"convertToInteractive('df-b7debcac-3122-4860-93fe-44d84d6e8b3d')\"\n",
              "            title=\"Convert this dataframe to an interactive table.\"\n",
              "            style=\"display:none;\">\n",
              "\n",
              "  <svg xmlns=\"http://www.w3.org/2000/svg\" height=\"24px\" viewBox=\"0 -960 960 960\">\n",
              "    <path d=\"M120-120v-720h720v720H120Zm60-500h600v-160H180v160Zm220 220h160v-160H400v160Zm0 220h160v-160H400v160ZM180-400h160v-160H180v160Zm440 0h160v-160H620v160ZM180-180h160v-160H180v160Zm440 0h160v-160H620v160Z\"/>\n",
              "  </svg>\n",
              "    </button>\n",
              "\n",
              "  <style>\n",
              "    .colab-df-container {\n",
              "      display:flex;\n",
              "      gap: 12px;\n",
              "    }\n",
              "\n",
              "    .colab-df-convert {\n",
              "      background-color: #E8F0FE;\n",
              "      border: none;\n",
              "      border-radius: 50%;\n",
              "      cursor: pointer;\n",
              "      display: none;\n",
              "      fill: #1967D2;\n",
              "      height: 32px;\n",
              "      padding: 0 0 0 0;\n",
              "      width: 32px;\n",
              "    }\n",
              "\n",
              "    .colab-df-convert:hover {\n",
              "      background-color: #E2EBFA;\n",
              "      box-shadow: 0px 1px 2px rgba(60, 64, 67, 0.3), 0px 1px 3px 1px rgba(60, 64, 67, 0.15);\n",
              "      fill: #174EA6;\n",
              "    }\n",
              "\n",
              "    .colab-df-buttons div {\n",
              "      margin-bottom: 4px;\n",
              "    }\n",
              "\n",
              "    [theme=dark] .colab-df-convert {\n",
              "      background-color: #3B4455;\n",
              "      fill: #D2E3FC;\n",
              "    }\n",
              "\n",
              "    [theme=dark] .colab-df-convert:hover {\n",
              "      background-color: #434B5C;\n",
              "      box-shadow: 0px 1px 3px 1px rgba(0, 0, 0, 0.15);\n",
              "      filter: drop-shadow(0px 1px 2px rgba(0, 0, 0, 0.3));\n",
              "      fill: #FFFFFF;\n",
              "    }\n",
              "  </style>\n",
              "\n",
              "    <script>\n",
              "      const buttonEl =\n",
              "        document.querySelector('#df-b7debcac-3122-4860-93fe-44d84d6e8b3d button.colab-df-convert');\n",
              "      buttonEl.style.display =\n",
              "        google.colab.kernel.accessAllowed ? 'block' : 'none';\n",
              "\n",
              "      async function convertToInteractive(key) {\n",
              "        const element = document.querySelector('#df-b7debcac-3122-4860-93fe-44d84d6e8b3d');\n",
              "        const dataTable =\n",
              "          await google.colab.kernel.invokeFunction('convertToInteractive',\n",
              "                                                    [key], {});\n",
              "        if (!dataTable) return;\n",
              "\n",
              "        const docLinkHtml = 'Like what you see? Visit the ' +\n",
              "          '<a target=\"_blank\" href=https://colab.research.google.com/notebooks/data_table.ipynb>data table notebook</a>'\n",
              "          + ' to learn more about interactive tables.';\n",
              "        element.innerHTML = '';\n",
              "        dataTable['output_type'] = 'display_data';\n",
              "        await google.colab.output.renderOutput(dataTable, element);\n",
              "        const docLink = document.createElement('div');\n",
              "        docLink.innerHTML = docLinkHtml;\n",
              "        element.appendChild(docLink);\n",
              "      }\n",
              "    </script>\n",
              "  </div>\n",
              "\n",
              "\n",
              "<div id=\"df-188f90d4-dabf-4db7-9c4a-ff2810948476\">\n",
              "  <button class=\"colab-df-quickchart\" onclick=\"quickchart('df-188f90d4-dabf-4db7-9c4a-ff2810948476')\"\n",
              "            title=\"Suggest charts\"\n",
              "            style=\"display:none;\">\n",
              "\n",
              "<svg xmlns=\"http://www.w3.org/2000/svg\" height=\"24px\"viewBox=\"0 0 24 24\"\n",
              "     width=\"24px\">\n",
              "    <g>\n",
              "        <path d=\"M19 3H5c-1.1 0-2 .9-2 2v14c0 1.1.9 2 2 2h14c1.1 0 2-.9 2-2V5c0-1.1-.9-2-2-2zM9 17H7v-7h2v7zm4 0h-2V7h2v10zm4 0h-2v-4h2v4z\"/>\n",
              "    </g>\n",
              "</svg>\n",
              "  </button>\n",
              "\n",
              "<style>\n",
              "  .colab-df-quickchart {\n",
              "      --bg-color: #E8F0FE;\n",
              "      --fill-color: #1967D2;\n",
              "      --hover-bg-color: #E2EBFA;\n",
              "      --hover-fill-color: #174EA6;\n",
              "      --disabled-fill-color: #AAA;\n",
              "      --disabled-bg-color: #DDD;\n",
              "  }\n",
              "\n",
              "  [theme=dark] .colab-df-quickchart {\n",
              "      --bg-color: #3B4455;\n",
              "      --fill-color: #D2E3FC;\n",
              "      --hover-bg-color: #434B5C;\n",
              "      --hover-fill-color: #FFFFFF;\n",
              "      --disabled-bg-color: #3B4455;\n",
              "      --disabled-fill-color: #666;\n",
              "  }\n",
              "\n",
              "  .colab-df-quickchart {\n",
              "    background-color: var(--bg-color);\n",
              "    border: none;\n",
              "    border-radius: 50%;\n",
              "    cursor: pointer;\n",
              "    display: none;\n",
              "    fill: var(--fill-color);\n",
              "    height: 32px;\n",
              "    padding: 0;\n",
              "    width: 32px;\n",
              "  }\n",
              "\n",
              "  .colab-df-quickchart:hover {\n",
              "    background-color: var(--hover-bg-color);\n",
              "    box-shadow: 0 1px 2px rgba(60, 64, 67, 0.3), 0 1px 3px 1px rgba(60, 64, 67, 0.15);\n",
              "    fill: var(--button-hover-fill-color);\n",
              "  }\n",
              "\n",
              "  .colab-df-quickchart-complete:disabled,\n",
              "  .colab-df-quickchart-complete:disabled:hover {\n",
              "    background-color: var(--disabled-bg-color);\n",
              "    fill: var(--disabled-fill-color);\n",
              "    box-shadow: none;\n",
              "  }\n",
              "\n",
              "  .colab-df-spinner {\n",
              "    border: 2px solid var(--fill-color);\n",
              "    border-color: transparent;\n",
              "    border-bottom-color: var(--fill-color);\n",
              "    animation:\n",
              "      spin 1s steps(1) infinite;\n",
              "  }\n",
              "\n",
              "  @keyframes spin {\n",
              "    0% {\n",
              "      border-color: transparent;\n",
              "      border-bottom-color: var(--fill-color);\n",
              "      border-left-color: var(--fill-color);\n",
              "    }\n",
              "    20% {\n",
              "      border-color: transparent;\n",
              "      border-left-color: var(--fill-color);\n",
              "      border-top-color: var(--fill-color);\n",
              "    }\n",
              "    30% {\n",
              "      border-color: transparent;\n",
              "      border-left-color: var(--fill-color);\n",
              "      border-top-color: var(--fill-color);\n",
              "      border-right-color: var(--fill-color);\n",
              "    }\n",
              "    40% {\n",
              "      border-color: transparent;\n",
              "      border-right-color: var(--fill-color);\n",
              "      border-top-color: var(--fill-color);\n",
              "    }\n",
              "    60% {\n",
              "      border-color: transparent;\n",
              "      border-right-color: var(--fill-color);\n",
              "    }\n",
              "    80% {\n",
              "      border-color: transparent;\n",
              "      border-right-color: var(--fill-color);\n",
              "      border-bottom-color: var(--fill-color);\n",
              "    }\n",
              "    90% {\n",
              "      border-color: transparent;\n",
              "      border-bottom-color: var(--fill-color);\n",
              "    }\n",
              "  }\n",
              "</style>\n",
              "\n",
              "  <script>\n",
              "    async function quickchart(key) {\n",
              "      const quickchartButtonEl =\n",
              "        document.querySelector('#' + key + ' button');\n",
              "      quickchartButtonEl.disabled = true;  // To prevent multiple clicks.\n",
              "      quickchartButtonEl.classList.add('colab-df-spinner');\n",
              "      try {\n",
              "        const charts = await google.colab.kernel.invokeFunction(\n",
              "            'suggestCharts', [key], {});\n",
              "      } catch (error) {\n",
              "        console.error('Error during call to suggestCharts:', error);\n",
              "      }\n",
              "      quickchartButtonEl.classList.remove('colab-df-spinner');\n",
              "      quickchartButtonEl.classList.add('colab-df-quickchart-complete');\n",
              "    }\n",
              "    (() => {\n",
              "      let quickchartButtonEl =\n",
              "        document.querySelector('#df-188f90d4-dabf-4db7-9c4a-ff2810948476 button');\n",
              "      quickchartButtonEl.style.display =\n",
              "        google.colab.kernel.accessAllowed ? 'block' : 'none';\n",
              "    })();\n",
              "  </script>\n",
              "</div>\n",
              "\n",
              "    </div>\n",
              "  </div>\n"
            ],
            "application/vnd.google.colaboratory.intrinsic+json": {
              "type": "dataframe",
              "variable_name": "df"
            }
          },
          "metadata": {},
          "execution_count": 57
        }
      ]
    },
    {
      "cell_type": "markdown",
      "metadata": {
        "id": "xaJvxW_cDWVq"
      },
      "source": [
        "**D. Verify if all the columns are incorporated in the merged DataFrame by using simple comparison Operator in Python.**"
      ]
    },
    {
      "cell_type": "code",
      "execution_count": null,
      "metadata": {
        "colab": {
          "base_uri": "https://localhost:8080/"
        },
        "id": "KZxWiqGqDcYz",
        "outputId": "ccd67112-5e1e-4040-d97c-d0fcb378272d"
      },
      "outputs": [
        {
          "output_type": "stream",
          "name": "stdout",
          "text": [
            "All the columns are incorporated in the merged DataFrame: {True}\n"
          ]
        }
      ],
      "source": [
        "df_columns= set(df.columns)==set(churn_1.columns).union(set(churn_2.columns))\n",
        "print('All the columns are incorporated in the merged DataFrame:',{df_columns})"
      ]
    },
    {
      "cell_type": "markdown",
      "metadata": {
        "id": "BZBSfIyZFHSt"
      },
      "source": [
        "## **2. Data Cleaning & Analysis:**"
      ]
    },
    {
      "cell_type": "markdown",
      "metadata": {
        "id": "dtS8-4SgFS6j"
      },
      "source": [
        "**A. Impute missing/unexpected values in the DataFrame**"
      ]
    },
    {
      "cell_type": "code",
      "execution_count": null,
      "metadata": {
        "colab": {
          "base_uri": "https://localhost:8080/"
        },
        "id": "JpvqWP-dFbtb",
        "outputId": "97ee0a02-bb4d-47ec-d275-f2d8e32f5a7b"
      },
      "outputs": [
        {
          "output_type": "execute_result",
          "data": {
            "text/plain": [
              "customerID          0\n",
              "gender              0\n",
              "SeniorCitizen       0\n",
              "Partner             0\n",
              "Dependents          0\n",
              "tenure              0\n",
              "PhoneService        0\n",
              "MultipleLines       0\n",
              "InternetService     0\n",
              "OnlineSecurity      0\n",
              "OnlineBackup        0\n",
              "DeviceProtection    0\n",
              "TechSupport         0\n",
              "StreamingTV         0\n",
              "StreamingMovies     0\n",
              "Contract            0\n",
              "PaperlessBilling    0\n",
              "PaymentMethod       0\n",
              "MonthlyCharges      0\n",
              "TotalCharges        0\n",
              "Churn               0\n",
              "dtype: int64"
            ]
          },
          "metadata": {},
          "execution_count": 10
        }
      ],
      "source": [
        "df.isnull().sum() #checking for any missing values"
      ]
    },
    {
      "cell_type": "markdown",
      "metadata": {
        "id": "QQ9pQNHrUaW1"
      },
      "source": [
        "Athough there seems no missing value, there are few empty strings in a particular column.If empty strings present and they are too many impute with mean , if less replace with zero."
      ]
    },
    {
      "cell_type": "code",
      "execution_count": null,
      "metadata": {
        "colab": {
          "base_uri": "https://localhost:8080/"
        },
        "id": "b8BPq_7pMB2m",
        "outputId": "38f78e29-4954-4d07-d4b3-85c50ca1898c"
      },
      "outputs": [
        {
          "output_type": "execute_result",
          "data": {
            "text/plain": [
              "customerID           0\n",
              "gender               0\n",
              "SeniorCitizen        0\n",
              "Partner              0\n",
              "Dependents           0\n",
              "tenure               0\n",
              "PhoneService         0\n",
              "MultipleLines        0\n",
              "InternetService      0\n",
              "OnlineSecurity       0\n",
              "OnlineBackup         0\n",
              "DeviceProtection     0\n",
              "TechSupport          0\n",
              "StreamingTV          0\n",
              "StreamingMovies      0\n",
              "Contract             0\n",
              "PaperlessBilling     0\n",
              "PaymentMethod        0\n",
              "MonthlyCharges       0\n",
              "TotalCharges        11\n",
              "Churn                0\n",
              "dtype: int64"
            ]
          },
          "metadata": {},
          "execution_count": 11
        }
      ],
      "source": [
        "(df==' ').sum() # checking for empty strings\n"
      ]
    },
    {
      "cell_type": "markdown",
      "metadata": {
        "id": "DA9C3hCTVs-6"
      },
      "source": [
        "Here there are only 11 rows out of 7043 rows which have emty strings coming from totalcharges column, so they can be replaced with zero."
      ]
    },
    {
      "cell_type": "code",
      "execution_count": null,
      "metadata": {
        "id": "0SB69YRxPquo"
      },
      "outputs": [],
      "source": [
        "df['TotalCharges']=df['TotalCharges'].replace(' ', 0) # As the no. of empty string is less out of 7043 replacing with 0"
      ]
    },
    {
      "cell_type": "code",
      "execution_count": null,
      "metadata": {
        "colab": {
          "base_uri": "https://localhost:8080/"
        },
        "id": "5vweC4p9P8p7",
        "outputId": "8cfd70bb-5adb-41d8-e629-f5216c814851"
      },
      "outputs": [
        {
          "output_type": "execute_result",
          "data": {
            "text/plain": [
              "customerID          0\n",
              "gender              0\n",
              "SeniorCitizen       0\n",
              "Partner             0\n",
              "Dependents          0\n",
              "tenure              0\n",
              "PhoneService        0\n",
              "MultipleLines       0\n",
              "InternetService     0\n",
              "OnlineSecurity      0\n",
              "OnlineBackup        0\n",
              "DeviceProtection    0\n",
              "TechSupport         0\n",
              "StreamingTV         0\n",
              "StreamingMovies     0\n",
              "Contract            0\n",
              "PaperlessBilling    0\n",
              "PaymentMethod       0\n",
              "MonthlyCharges      0\n",
              "TotalCharges        0\n",
              "Churn               0\n",
              "dtype: int64"
            ]
          },
          "metadata": {},
          "execution_count": 13
        }
      ],
      "source": [
        "(df==' ').sum() # check again if empty string is present\n"
      ]
    },
    {
      "cell_type": "code",
      "execution_count": null,
      "metadata": {
        "colab": {
          "base_uri": "https://localhost:8080/"
        },
        "id": "RsXd8rcITUfm",
        "outputId": "f5319689-7f56-4dab-866e-e56961507624"
      },
      "outputs": [
        {
          "output_type": "execute_result",
          "data": {
            "text/plain": [
              "array(['29.85', '1889.5', '108.15', ..., '346.45', '306.6', '6844.5'],\n",
              "      dtype=object)"
            ]
          },
          "metadata": {},
          "execution_count": 14
        }
      ],
      "source": [
        "df['TotalCharges'].unique()  #returns the unique values"
      ]
    },
    {
      "cell_type": "markdown",
      "metadata": {
        "id": "h9gPoORWG8qp"
      },
      "source": [
        "**B. Make sure all the variables with continuous values are of ‘Float’ type.**"
      ]
    },
    {
      "cell_type": "code",
      "execution_count": null,
      "metadata": {
        "colab": {
          "base_uri": "https://localhost:8080/"
        },
        "id": "FvbOqTJ9HCix",
        "outputId": "0acd7d1d-1f27-47e2-9ddc-2abb446c3bd1"
      },
      "outputs": [
        {
          "output_type": "stream",
          "name": "stdout",
          "text": [
            "<class 'pandas.core.frame.DataFrame'>\n",
            "RangeIndex: 7043 entries, 0 to 7042\n",
            "Data columns (total 21 columns):\n",
            " #   Column            Non-Null Count  Dtype  \n",
            "---  ------            --------------  -----  \n",
            " 0   customerID        7043 non-null   object \n",
            " 1   gender            7043 non-null   object \n",
            " 2   SeniorCitizen     7043 non-null   int64  \n",
            " 3   Partner           7043 non-null   object \n",
            " 4   Dependents        7043 non-null   object \n",
            " 5   tenure            7043 non-null   int64  \n",
            " 6   PhoneService      7043 non-null   object \n",
            " 7   MultipleLines     7043 non-null   object \n",
            " 8   InternetService   7043 non-null   object \n",
            " 9   OnlineSecurity    7043 non-null   object \n",
            " 10  OnlineBackup      7043 non-null   object \n",
            " 11  DeviceProtection  7043 non-null   object \n",
            " 12  TechSupport       7043 non-null   object \n",
            " 13  StreamingTV       7043 non-null   object \n",
            " 14  StreamingMovies   7043 non-null   object \n",
            " 15  Contract          7043 non-null   object \n",
            " 16  PaperlessBilling  7043 non-null   object \n",
            " 17  PaymentMethod     7043 non-null   object \n",
            " 18  MonthlyCharges    7043 non-null   float64\n",
            " 19  TotalCharges      7043 non-null   object \n",
            " 20  Churn             7043 non-null   object \n",
            "dtypes: float64(1), int64(2), object(18)\n",
            "memory usage: 1.1+ MB\n"
          ]
        }
      ],
      "source": [
        "df.info() # checking the dataframe datatype"
      ]
    },
    {
      "cell_type": "markdown",
      "metadata": {
        "id": "6cFKk7kDTxpJ"
      },
      "source": [
        "Insights: The totalcharges in the dataframe looks a continuous value, and that is seen using the .unique(), and so they have to be converted to float type before performing the model building."
      ]
    },
    {
      "cell_type": "code",
      "execution_count": null,
      "metadata": {
        "colab": {
          "base_uri": "https://localhost:8080/"
        },
        "id": "FUuEFJMXTe5c",
        "outputId": "f11cf77b-8b49-45e3-c41e-daffa37c675a"
      },
      "outputs": [
        {
          "output_type": "stream",
          "name": "stdout",
          "text": [
            "<class 'pandas.core.frame.DataFrame'>\n",
            "RangeIndex: 7043 entries, 0 to 7042\n",
            "Data columns (total 21 columns):\n",
            " #   Column            Non-Null Count  Dtype  \n",
            "---  ------            --------------  -----  \n",
            " 0   customerID        7043 non-null   object \n",
            " 1   gender            7043 non-null   object \n",
            " 2   SeniorCitizen     7043 non-null   int64  \n",
            " 3   Partner           7043 non-null   object \n",
            " 4   Dependents        7043 non-null   object \n",
            " 5   tenure            7043 non-null   int64  \n",
            " 6   PhoneService      7043 non-null   object \n",
            " 7   MultipleLines     7043 non-null   object \n",
            " 8   InternetService   7043 non-null   object \n",
            " 9   OnlineSecurity    7043 non-null   object \n",
            " 10  OnlineBackup      7043 non-null   object \n",
            " 11  DeviceProtection  7043 non-null   object \n",
            " 12  TechSupport       7043 non-null   object \n",
            " 13  StreamingTV       7043 non-null   object \n",
            " 14  StreamingMovies   7043 non-null   object \n",
            " 15  Contract          7043 non-null   object \n",
            " 16  PaperlessBilling  7043 non-null   object \n",
            " 17  PaymentMethod     7043 non-null   object \n",
            " 18  MonthlyCharges    7043 non-null   float64\n",
            " 19  TotalCharges      7043 non-null   float64\n",
            " 20  Churn             7043 non-null   object \n",
            "dtypes: float64(2), int64(2), object(17)\n",
            "memory usage: 1.1+ MB\n"
          ]
        }
      ],
      "source": [
        "df['TotalCharges']=df['TotalCharges'].astype(float) # chaning the totalcharge from object to float type\n",
        "df.info()"
      ]
    },
    {
      "cell_type": "code",
      "execution_count": null,
      "metadata": {
        "id": "OuFGQE-J0o2L"
      },
      "outputs": [],
      "source": [
        "df=df.drop(labels=['customerID'], axis=1) # customerID has no impact with the dataset so drop the column.\n"
      ]
    },
    {
      "cell_type": "code",
      "execution_count": null,
      "metadata": {
        "colab": {
          "base_uri": "https://localhost:8080/"
        },
        "id": "kyzSAD912mAp",
        "outputId": "65fa618c-5c31-4fde-ff4e-db6e9e371573"
      },
      "outputs": [
        {
          "output_type": "stream",
          "name": "stdout",
          "text": [
            "<class 'pandas.core.frame.DataFrame'>\n",
            "RangeIndex: 7043 entries, 0 to 7042\n",
            "Data columns (total 20 columns):\n",
            " #   Column            Non-Null Count  Dtype  \n",
            "---  ------            --------------  -----  \n",
            " 0   gender            7043 non-null   object \n",
            " 1   SeniorCitizen     7043 non-null   int64  \n",
            " 2   Partner           7043 non-null   object \n",
            " 3   Dependents        7043 non-null   object \n",
            " 4   tenure            7043 non-null   int64  \n",
            " 5   PhoneService      7043 non-null   object \n",
            " 6   MultipleLines     7043 non-null   object \n",
            " 7   InternetService   7043 non-null   object \n",
            " 8   OnlineSecurity    7043 non-null   object \n",
            " 9   OnlineBackup      7043 non-null   object \n",
            " 10  DeviceProtection  7043 non-null   object \n",
            " 11  TechSupport       7043 non-null   object \n",
            " 12  StreamingTV       7043 non-null   object \n",
            " 13  StreamingMovies   7043 non-null   object \n",
            " 14  Contract          7043 non-null   object \n",
            " 15  PaperlessBilling  7043 non-null   object \n",
            " 16  PaymentMethod     7043 non-null   object \n",
            " 17  MonthlyCharges    7043 non-null   float64\n",
            " 18  TotalCharges      7043 non-null   float64\n",
            " 19  Churn             7043 non-null   object \n",
            "dtypes: float64(2), int64(2), object(16)\n",
            "memory usage: 1.1+ MB\n"
          ]
        }
      ],
      "source": [
        "df.info()"
      ]
    },
    {
      "cell_type": "code",
      "execution_count": null,
      "metadata": {
        "colab": {
          "base_uri": "https://localhost:8080/"
        },
        "id": "tPAlDIVXJsWo",
        "outputId": "5d90c2d4-6b9e-4ac3-fb4c-5f5009886b39"
      },
      "outputs": [
        {
          "output_type": "stream",
          "name": "stdout",
          "text": [
            "Index(['gender', 'Partner', 'Dependents', 'PhoneService', 'MultipleLines',\n",
            "       'InternetService', 'OnlineSecurity', 'OnlineBackup', 'DeviceProtection',\n",
            "       'TechSupport', 'StreamingTV', 'StreamingMovies', 'Contract',\n",
            "       'PaperlessBilling', 'PaymentMethod', 'Churn'],\n",
            "      dtype='object')\n"
          ]
        }
      ],
      "source": [
        "#checking for categorical column if selected right\n",
        "categorical_columns=df.select_dtypes(include=['object']).columns\n",
        "print(categorical_columns)\n"
      ]
    },
    {
      "cell_type": "markdown",
      "metadata": {
        "id": "4h8Rx1Y1Wk95"
      },
      "source": [
        "**C. Create a function that will accept a DataFrame as input and return pie-charts for all the appropriate Categorical features. Clearly show percentage distribution in the pie-chart.**"
      ]
    },
    {
      "cell_type": "code",
      "execution_count": null,
      "metadata": {
        "colab": {
          "base_uri": "https://localhost:8080/",
          "height": 1000
        },
        "id": "0AkJLNrJXlXL",
        "outputId": "289d4ff5-80dc-4da4-bf07-05f7cdfdc39b"
      },
      "outputs": [
        {
          "output_type": "display_data",
          "data": {
            "text/plain": [
              "<Figure size 1600x1600 with 16 Axes>"
            ],
            "image/png": "[encoded data removed]"
          },
          "metadata": {}
        }
      ],
      "source": [
        "#define a function to accept the churn dataframe and select the categorical features.\n",
        "def plot_categorical_pie_chart(df):\n",
        "  #Identifying the categorical columns\n",
        "   categorical_columns=df.select_dtypes(include=['object','category']).columns\n",
        "\n",
        "#getting the no.of rows needed for 4plots per row\n",
        "   cols=len(categorical_columns)\n",
        "   rows=(cols+3)//4\n",
        "   fig,axes=plt.subplots(rows,4,figsize=(16, rows*4))\n",
        "   axes=axes.flatten()\n",
        "  #Now we have to loop through each selected categorical column to create pie chart\n",
        "   for i, column in enumerate(categorical_columns):\n",
        "      #checking value counts and percentage distribution for pie chart\n",
        "       value_counts=df[column].value_counts()\n",
        "  # plot the pie chart\n",
        "       axes[i].pie(value_counts, labels=value_counts.index, autopct='%1.1f%%', startangle=140)\n",
        "       axes[i].set_title(column)\n",
        "       axes[i].axis('equal')\n",
        "\n",
        "   plt.tight_layout()\n",
        "   plt.show()\n",
        " #calling the function to plot pie chart\n",
        "plot_categorical_pie_chart(df)"
      ]
    },
    {
      "cell_type": "markdown",
      "metadata": {
        "id": "0Lzt4gslAZCZ"
      },
      "source": [
        "**D. Share insights for Q2.c.**"
      ]
    },
    {
      "cell_type": "markdown",
      "metadata": {
        "id": "Bs_AH_DfAdxB"
      },
      "source": [
        "Gender: The gender between Male and female is almost same, indicating there is no significant gender bias among the customers base.\n",
        "\n",
        "Partner: A slight higher percentage is seen on  number of customers who dont have partners. For this retention strategies have to be considered to check for the differing needs of ones with partners and single customers.\n",
        "\n",
        "Dependents: A majority number of customers dont have dependents. This could influence the services and products marketed from the telcom company.\n",
        "\n",
        "PhoneService: Majority of the cusstomers have phone service, suggesting its core service importance.\n",
        "\n",
        "Mutliplelines: Nearly half of the customers although they have phone service, they dont have multiple lines and a significant number of sutomers dont have phone service at all.This someway indicates that multiple lines are more at upsell to the exisiting phone service customers.\n",
        "\n",
        "InternetService: Fibreoptics connections seems to be used at higher number, followed by DSL.  And so, considering extending fibreoptic service for phone connections would benefit the company.\n",
        "\n",
        "Onlinesecurity, OnlineBackup, DeviceProtection: A significant higher percenatge dont have online security, backup and protection. To increase this number on a positive note marketing efforts have to be done stating the importance of having these services, so that the sales and adoption of service will increase.\n",
        "\n",
        "TechSupport: Nearly half the customers dont have techsupport, suggesting a growth in this area can be initiated more.\n",
        "\n",
        "StreamingMovies, Streaming TV: Among the Internets ervice, there is almost a equal split between the usage of services. So the telcom company can promote more ways to attract customers to use there services.\n",
        "\n",
        "Contract Type: Most customers prefer month on month contract which correlates with the high churn rate. So company has to pull up strategy so as to increase the contract.\n",
        "\n",
        "Paper billing: Majority prefer paperless billing, indicating the cost effective/saving service implemented by the company.\n",
        "\n",
        "PaymentMethod:Among the payment Method electronic means of payment is most used. This has to be cross checked with the churn for their correlation.\n",
        "\n",
        "Churn: About more than 3/4th of cutomers have churned. So understanding the customers needs will help in developing trageted retention strategy.\n",
        "\n"
      ]
    },
    {
      "cell_type": "markdown",
      "metadata": {
        "id": "yeeIlt75Aeat"
      },
      "source": [
        "**E. Encode all the appropriate Categorical features with the best suitable approach.**"
      ]
    },
    {
      "cell_type": "code",
      "execution_count": null,
      "metadata": {
        "colab": {
          "base_uri": "https://localhost:8080/",
          "height": 290
        },
        "id": "ogMByH6Qm2C5",
        "outputId": "b49143c6-e413-426e-a454-156bdccfd28d"
      },
      "outputs": [
        {
          "output_type": "execute_result",
          "data": {
            "text/plain": [
              "   gender  SeniorCitizen  Partner  Dependents  tenure  PhoneService  \\\n",
              "0       1              0        1           0       1             0   \n",
              "1       0              0        0           0      34             1   \n",
              "2       0              0        0           0       2             1   \n",
              "3       0              0        0           0      45             0   \n",
              "4       1              0        0           0       2             1   \n",
              "\n",
              "   MultipleLines  InternetService  OnlineSecurity  OnlineBackup  ...  \\\n",
              "0              0                1               1             2  ...   \n",
              "1              1                1               2             1  ...   \n",
              "2              1                1               2             2  ...   \n",
              "3              0                1               2             1  ...   \n",
              "4              1                2               1             1  ...   \n",
              "\n",
              "   StreamingMovies  Contract  PaperlessBilling  MonthlyCharges  TotalCharges  \\\n",
              "0                1         0                 1           29.85         29.85   \n",
              "1                1         1                 0           56.95       1889.50   \n",
              "2                1         0                 1           53.85        108.15   \n",
              "3                1         1                 0           42.30       1840.75   \n",
              "4                1         0                 1           70.70        151.65   \n",
              "\n",
              "   Churn  PaymentMethod_Bank transfer (automatic)  \\\n",
              "0      0                                    False   \n",
              "1      0                                    False   \n",
              "2      1                                    False   \n",
              "3      0                                     True   \n",
              "4      1                                    False   \n",
              "\n",
              "   PaymentMethod_Credit card (automatic)  PaymentMethod_Electronic check  \\\n",
              "0                                  False                            True   \n",
              "1                                  False                           False   \n",
              "2                                  False                           False   \n",
              "3                                  False                           False   \n",
              "4                                  False                            True   \n",
              "\n",
              "   PaymentMethod_Mailed check  \n",
              "0                       False  \n",
              "1                        True  \n",
              "2                        True  \n",
              "3                       False  \n",
              "4                       False  \n",
              "\n",
              "[5 rows x 23 columns]"
            ],
            "text/html": [
              "\n",
              "  <div id=\"df-840c3121-b34a-4d81-9b29-02bf38b269dd\" class=\"colab-df-container\">\n",
              "    <div>\n",
              "<style scoped>\n",
              "    .dataframe tbody tr th:only-of-type {\n",
              "        vertical-align: middle;\n",
              "    }\n",
              "\n",
              "    .dataframe tbody tr th {\n",
              "        vertical-align: top;\n",
              "    }\n",
              "\n",
              "    .dataframe thead th {\n",
              "        text-align: right;\n",
              "    }\n",
              "</style>\n",
              "<table border=\"1\" class=\"dataframe\">\n",
              "  <thead>\n",
              "    <tr style=\"text-align: right;\">\n",
              "      <th></th>\n",
              "      <th>gender</th>\n",
              "      <th>SeniorCitizen</th>\n",
              "      <th>Partner</th>\n",
              "      <th>Dependents</th>\n",
              "      <th>tenure</th>\n",
              "      <th>PhoneService</th>\n",
              "      <th>MultipleLines</th>\n",
              "      <th>InternetService</th>\n",
              "      <th>OnlineSecurity</th>\n",
              "      <th>OnlineBackup</th>\n",
              "      <th>...</th>\n",
              "      <th>StreamingMovies</th>\n",
              "      <th>Contract</th>\n",
              "      <th>PaperlessBilling</th>\n",
              "      <th>MonthlyCharges</th>\n",
              "      <th>TotalCharges</th>\n",
              "      <th>Churn</th>\n",
              "      <th>PaymentMethod_Bank transfer (automatic)</th>\n",
              "      <th>PaymentMethod_Credit card (automatic)</th>\n",
              "      <th>PaymentMethod_Electronic check</th>\n",
              "      <th>PaymentMethod_Mailed check</th>\n",
              "    </tr>\n",
              "  </thead>\n",
              "  <tbody>\n",
              "    <tr>\n",
              "      <th>0</th>\n",
              "      <td>1</td>\n",
              "      <td>0</td>\n",
              "      <td>1</td>\n",
              "      <td>0</td>\n",
              "      <td>1</td>\n",
              "      <td>0</td>\n",
              "      <td>0</td>\n",
              "      <td>1</td>\n",
              "      <td>1</td>\n",
              "      <td>2</td>\n",
              "      <td>...</td>\n",
              "      <td>1</td>\n",
              "      <td>0</td>\n",
              "      <td>1</td>\n",
              "      <td>29.85</td>\n",
              "      <td>29.85</td>\n",
              "      <td>0</td>\n",
              "      <td>False</td>\n",
              "      <td>False</td>\n",
              "      <td>True</td>\n",
              "      <td>False</td>\n",
              "    </tr>\n",
              "    <tr>\n",
              "      <th>1</th>\n",
              "      <td>0</td>\n",
              "      <td>0</td>\n",
              "      <td>0</td>\n",
              "      <td>0</td>\n",
              "      <td>34</td>\n",
              "      <td>1</td>\n",
              "      <td>1</td>\n",
              "      <td>1</td>\n",
              "      <td>2</td>\n",
              "      <td>1</td>\n",
              "      <td>...</td>\n",
              "      <td>1</td>\n",
              "      <td>1</td>\n",
              "      <td>0</td>\n",
              "      <td>56.95</td>\n",
              "      <td>1889.50</td>\n",
              "      <td>0</td>\n",
              "      <td>False</td>\n",
              "      <td>False</td>\n",
              "      <td>False</td>\n",
              "      <td>True</td>\n",
              "    </tr>\n",
              "    <tr>\n",
              "      <th>2</th>\n",
              "      <td>0</td>\n",
              "      <td>0</td>\n",
              "      <td>0</td>\n",
              "      <td>0</td>\n",
              "      <td>2</td>\n",
              "      <td>1</td>\n",
              "      <td>1</td>\n",
              "      <td>1</td>\n",
              "      <td>2</td>\n",
              "      <td>2</td>\n",
              "      <td>...</td>\n",
              "      <td>1</td>\n",
              "      <td>0</td>\n",
              "      <td>1</td>\n",
              "      <td>53.85</td>\n",
              "      <td>108.15</td>\n",
              "      <td>1</td>\n",
              "      <td>False</td>\n",
              "      <td>False</td>\n",
              "      <td>False</td>\n",
              "      <td>True</td>\n",
              "    </tr>\n",
              "    <tr>\n",
              "      <th>3</th>\n",
              "      <td>0</td>\n",
              "      <td>0</td>\n",
              "      <td>0</td>\n",
              "      <td>0</td>\n",
              "      <td>45</td>\n",
              "      <td>0</td>\n",
              "      <td>0</td>\n",
              "      <td>1</td>\n",
              "      <td>2</td>\n",
              "      <td>1</td>\n",
              "      <td>...</td>\n",
              "      <td>1</td>\n",
              "      <td>1</td>\n",
              "      <td>0</td>\n",
              "      <td>42.30</td>\n",
              "      <td>1840.75</td>\n",
              "      <td>0</td>\n",
              "      <td>True</td>\n",
              "      <td>False</td>\n",
              "      <td>False</td>\n",
              "      <td>False</td>\n",
              "    </tr>\n",
              "    <tr>\n",
              "      <th>4</th>\n",
              "      <td>1</td>\n",
              "      <td>0</td>\n",
              "      <td>0</td>\n",
              "      <td>0</td>\n",
              "      <td>2</td>\n",
              "      <td>1</td>\n",
              "      <td>1</td>\n",
              "      <td>2</td>\n",
              "      <td>1</td>\n",
              "      <td>1</td>\n",
              "      <td>...</td>\n",
              "      <td>1</td>\n",
              "      <td>0</td>\n",
              "      <td>1</td>\n",
              "      <td>70.70</td>\n",
              "      <td>151.65</td>\n",
              "      <td>1</td>\n",
              "      <td>False</td>\n",
              "      <td>False</td>\n",
              "      <td>True</td>\n",
              "      <td>False</td>\n",
              "    </tr>\n",
              "  </tbody>\n",
              "</table>\n",
              "<p>5 rows × 23 columns</p>\n",
              "</div>\n",
              "    <div class=\"colab-df-buttons\">\n",
              "\n",
              "  <div class=\"colab-df-container\">\n",
              "    <button class=\"colab-df-convert\" onclick=\"convertToInteractive('df-840c3121-b34a-4d81-9b29-02bf38b269dd')\"\n",
              "            title=\"Convert this dataframe to an interactive table.\"\n",
              "            style=\"display:none;\">\n",
              "\n",
              "  <svg xmlns=\"http://www.w3.org/2000/svg\" height=\"24px\" viewBox=\"0 -960 960 960\">\n",
              "    <path d=\"M120-120v-720h720v720H120Zm60-500h600v-160H180v160Zm220 220h160v-160H400v160Zm0 220h160v-160H400v160ZM180-400h160v-160H180v160Zm440 0h160v-160H620v160ZM180-180h160v-160H180v160Zm440 0h160v-160H620v160Z\"/>\n",
              "  </svg>\n",
              "    </button>\n",
              "\n",
              "  <style>\n",
              "    .colab-df-container {\n",
              "      display:flex;\n",
              "      gap: 12px;\n",
              "    }\n",
              "\n",
              "    .colab-df-convert {\n",
              "      background-color: #E8F0FE;\n",
              "      border: none;\n",
              "      border-radius: 50%;\n",
              "      cursor: pointer;\n",
              "      display: none;\n",
              "      fill: #1967D2;\n",
              "      height: 32px;\n",
              "      padding: 0 0 0 0;\n",
              "      width: 32px;\n",
              "    }\n",
              "\n",
              "    .colab-df-convert:hover {\n",
              "      background-color: #E2EBFA;\n",
              "      box-shadow: 0px 1px 2px rgba(60, 64, 67, 0.3), 0px 1px 3px 1px rgba(60, 64, 67, 0.15);\n",
              "      fill: #174EA6;\n",
              "    }\n",
              "\n",
              "    .colab-df-buttons div {\n",
              "      margin-bottom: 4px;\n",
              "    }\n",
              "\n",
              "    [theme=dark] .colab-df-convert {\n",
              "      background-color: #3B4455;\n",
              "      fill: #D2E3FC;\n",
              "    }\n",
              "\n",
              "    [theme=dark] .colab-df-convert:hover {\n",
              "      background-color: #434B5C;\n",
              "      box-shadow: 0px 1px 3px 1px rgba(0, 0, 0, 0.15);\n",
              "      filter: drop-shadow(0px 1px 2px rgba(0, 0, 0, 0.3));\n",
              "      fill: #FFFFFF;\n",
              "    }\n",
              "  </style>\n",
              "\n",
              "    <script>\n",
              "      const buttonEl =\n",
              "        document.querySelector('#df-840c3121-b34a-4d81-9b29-02bf38b269dd button.colab-df-convert');\n",
              "      buttonEl.style.display =\n",
              "        google.colab.kernel.accessAllowed ? 'block' : 'none';\n",
              "\n",
              "      async function convertToInteractive(key) {\n",
              "        const element = document.querySelector('#df-840c3121-b34a-4d81-9b29-02bf38b269dd');\n",
              "        const dataTable =\n",
              "          await google.colab.kernel.invokeFunction('convertToInteractive',\n",
              "                                                    [key], {});\n",
              "        if (!dataTable) return;\n",
              "\n",
              "        const docLinkHtml = 'Like what you see? Visit the ' +\n",
              "          '<a target=\"_blank\" href=https://colab.research.google.com/notebooks/data_table.ipynb>data table notebook</a>'\n",
              "          + ' to learn more about interactive tables.';\n",
              "        element.innerHTML = '';\n",
              "        dataTable['output_type'] = 'display_data';\n",
              "        await google.colab.output.renderOutput(dataTable, element);\n",
              "        const docLink = document.createElement('div');\n",
              "        docLink.innerHTML = docLinkHtml;\n",
              "        element.appendChild(docLink);\n",
              "      }\n",
              "    </script>\n",
              "  </div>\n",
              "\n",
              "\n",
              "<div id=\"df-25162fb4-19ec-4148-a728-fdfd1cdf822b\">\n",
              "  <button class=\"colab-df-quickchart\" onclick=\"quickchart('df-25162fb4-19ec-4148-a728-fdfd1cdf822b')\"\n",
              "            title=\"Suggest charts\"\n",
              "            style=\"display:none;\">\n",
              "\n",
              "<svg xmlns=\"http://www.w3.org/2000/svg\" height=\"24px\"viewBox=\"0 0 24 24\"\n",
              "     width=\"24px\">\n",
              "    <g>\n",
              "        <path d=\"M19 3H5c-1.1 0-2 .9-2 2v14c0 1.1.9 2 2 2h14c1.1 0 2-.9 2-2V5c0-1.1-.9-2-2-2zM9 17H7v-7h2v7zm4 0h-2V7h2v10zm4 0h-2v-4h2v4z\"/>\n",
              "    </g>\n",
              "</svg>\n",
              "  </button>\n",
              "\n",
              "<style>\n",
              "  .colab-df-quickchart {\n",
              "      --bg-color: #E8F0FE;\n",
              "      --fill-color: #1967D2;\n",
              "      --hover-bg-color: #E2EBFA;\n",
              "      --hover-fill-color: #174EA6;\n",
              "      --disabled-fill-color: #AAA;\n",
              "      --disabled-bg-color: #DDD;\n",
              "  }\n",
              "\n",
              "  [theme=dark] .colab-df-quickchart {\n",
              "      --bg-color: #3B4455;\n",
              "      --fill-color: #D2E3FC;\n",
              "      --hover-bg-color: #434B5C;\n",
              "      --hover-fill-color: #FFFFFF;\n",
              "      --disabled-bg-color: #3B4455;\n",
              "      --disabled-fill-color: #666;\n",
              "  }\n",
              "\n",
              "  .colab-df-quickchart {\n",
              "    background-color: var(--bg-color);\n",
              "    border: none;\n",
              "    border-radius: 50%;\n",
              "    cursor: pointer;\n",
              "    display: none;\n",
              "    fill: var(--fill-color);\n",
              "    height: 32px;\n",
              "    padding: 0;\n",
              "    width: 32px;\n",
              "  }\n",
              "\n",
              "  .colab-df-quickchart:hover {\n",
              "    background-color: var(--hover-bg-color);\n",
              "    box-shadow: 0 1px 2px rgba(60, 64, 67, 0.3), 0 1px 3px 1px rgba(60, 64, 67, 0.15);\n",
              "    fill: var(--button-hover-fill-color);\n",
              "  }\n",
              "\n",
              "  .colab-df-quickchart-complete:disabled,\n",
              "  .colab-df-quickchart-complete:disabled:hover {\n",
              "    background-color: var(--disabled-bg-color);\n",
              "    fill: var(--disabled-fill-color);\n",
              "    box-shadow: none;\n",
              "  }\n",
              "\n",
              "  .colab-df-spinner {\n",
              "    border: 2px solid var(--fill-color);\n",
              "    border-color: transparent;\n",
              "    border-bottom-color: var(--fill-color);\n",
              "    animation:\n",
              "      spin 1s steps(1) infinite;\n",
              "  }\n",
              "\n",
              "  @keyframes spin {\n",
              "    0% {\n",
              "      border-color: transparent;\n",
              "      border-bottom-color: var(--fill-color);\n",
              "      border-left-color: var(--fill-color);\n",
              "    }\n",
              "    20% {\n",
              "      border-color: transparent;\n",
              "      border-left-color: var(--fill-color);\n",
              "      border-top-color: var(--fill-color);\n",
              "    }\n",
              "    30% {\n",
              "      border-color: transparent;\n",
              "      border-left-color: var(--fill-color);\n",
              "      border-top-color: var(--fill-color);\n",
              "      border-right-color: var(--fill-color);\n",
              "    }\n",
              "    40% {\n",
              "      border-color: transparent;\n",
              "      border-right-color: var(--fill-color);\n",
              "      border-top-color: var(--fill-color);\n",
              "    }\n",
              "    60% {\n",
              "      border-color: transparent;\n",
              "      border-right-color: var(--fill-color);\n",
              "    }\n",
              "    80% {\n",
              "      border-color: transparent;\n",
              "      border-right-color: var(--fill-color);\n",
              "      border-bottom-color: var(--fill-color);\n",
              "    }\n",
              "    90% {\n",
              "      border-color: transparent;\n",
              "      border-bottom-color: var(--fill-color);\n",
              "    }\n",
              "  }\n",
              "</style>\n",
              "\n",
              "  <script>\n",
              "    async function quickchart(key) {\n",
              "      const quickchartButtonEl =\n",
              "        document.querySelector('#' + key + ' button');\n",
              "      quickchartButtonEl.disabled = true;  // To prevent multiple clicks.\n",
              "      quickchartButtonEl.classList.add('colab-df-spinner');\n",
              "      try {\n",
              "        const charts = await google.colab.kernel.invokeFunction(\n",
              "            'suggestCharts', [key], {});\n",
              "      } catch (error) {\n",
              "        console.error('Error during call to suggestCharts:', error);\n",
              "      }\n",
              "      quickchartButtonEl.classList.remove('colab-df-spinner');\n",
              "      quickchartButtonEl.classList.add('colab-df-quickchart-complete');\n",
              "    }\n",
              "    (() => {\n",
              "      let quickchartButtonEl =\n",
              "        document.querySelector('#df-25162fb4-19ec-4148-a728-fdfd1cdf822b button');\n",
              "      quickchartButtonEl.style.display =\n",
              "        google.colab.kernel.accessAllowed ? 'block' : 'none';\n",
              "    })();\n",
              "  </script>\n",
              "</div>\n",
              "\n",
              "    </div>\n",
              "  </div>\n"
            ],
            "application/vnd.google.colaboratory.intrinsic+json": {
              "type": "dataframe",
              "variable_name": "df"
            }
          },
          "metadata": {},
          "execution_count": 21
        }
      ],
      "source": [
        "replacestructure={'gender':{\"Male\":0, \"Female\":1},\n",
        "                  'Partner':{\"Yes\":1, \"No\":0},\n",
        "                  'Dependents':{\"Yes\":1, \"No\":0},\n",
        "                  'PhoneService':{\"Yes\":1, \"No\":0},\n",
        "                  'MultipleLines':{\"No phone service\":0, \"No\":1, \"Yes\":2},\n",
        "                  'InternetService':{\"No\":0, \"DSL\":1, \"Fiber optic\":2},\n",
        "                  'OnlineSecurity':{\"No internet service\":0, \"No\":1, \"Yes\":2},\n",
        "                  'OnlineBackup':{\"No internet service\":0, \"No\":1, \"Yes\":2},\n",
        "                  'DeviceProtection':{\"No internet service\":0, \"No\":1, \"Yes\":2},\n",
        "                  'TechSupport':{\"No internet service\":0, \"No\":1, \"Yes\":2},\n",
        "                  'StreamingTV':{\"No internet service\":0, \"No\":1, \"Yes\":2},\n",
        "                  'StreamingMovies':{\"No internet service\":0, \"No\":1, \"Yes\":2},\n",
        "                  'Contract':{\"Month-to-month\":0, \"One year\":1, \"Two year\":2},\n",
        "                  'PaperlessBilling':{\"No\":0, \"Yes\":1},\n",
        "                  'Churn':{\"Yes\":1, \"No\":0}}\n",
        "#label encoding\n",
        "df=df.replace(replacestructure)\n",
        "\n",
        "#one hot encoding\n",
        "df=pd.get_dummies(df, columns=['PaymentMethod'])\n",
        "\n",
        "df.head()"
      ]
    },
    {
      "cell_type": "markdown",
      "metadata": {
        "id": "3ORUpVrTJbNw"
      },
      "source": [
        "**F. Split the data into 80% train and 20% test.**"
      ]
    },
    {
      "cell_type": "code",
      "execution_count": null,
      "metadata": {
        "id": "dj4sgE6dJJaK"
      },
      "outputs": [],
      "source": [
        "from sklearn.model_selection import train_test_split\n",
        "#spliting the dataset into training and testing\n",
        "X=df.drop('Churn', axis=1) # independent variable\n",
        "y=df.pop('Churn') # target variable\n",
        "X_train, X_test, y_train, y_test=train_test_split(X,y, test_size=0.2, random_state=42)"
      ]
    },
    {
      "cell_type": "markdown",
      "metadata": {
        "id": "ErU90v8iBzgD"
      },
      "source": [
        "**G. Normalize/Standardize the data with the best suitable approach.**"
      ]
    },
    {
      "cell_type": "code",
      "execution_count": null,
      "metadata": {
        "id": "_K4hV0nXBvrk"
      },
      "outputs": [],
      "source": [
        "#standardise the data\n",
        "from sklearn import preprocessing\n",
        "from sklearn.preprocessing import StandardScaler\n",
        "scaler=StandardScaler()\n",
        "X_train_scaled=scaler.fit_transform(X_train)\n",
        "X_test_scaled=scaler.transform(X_test)"
      ]
    },
    {
      "cell_type": "markdown",
      "metadata": {
        "id": "m7HZno6TDoN9"
      },
      "source": [
        "## **3. Model building and performance improvement :**"
      ]
    },
    {
      "cell_type": "markdown",
      "metadata": {
        "id": "rGMJaHGPDtoQ"
      },
      "source": [
        "**A. Train a model using Decision tree and check the performance of the model on train and test data.**"
      ]
    },
    {
      "cell_type": "code",
      "execution_count": null,
      "metadata": {
        "colab": {
          "base_uri": "https://localhost:8080/",
          "height": 74
        },
        "id": "0_aKiXlPFQHg",
        "outputId": "199822a6-0361-40db-cea2-40c8afb4d3b1"
      },
      "outputs": [
        {
          "output_type": "execute_result",
          "data": {
            "text/plain": [
              "DecisionTreeClassifier(random_state=42)"
            ],
            "text/html": [
              "<style>#sk-container-id-1 {color: black;background-color: white;}#sk-container-id-1 pre{padding: 0;}#sk-container-id-1 div.sk-toggleable {background-color: white;}#sk-container-id-1 label.sk-toggleable__label {cursor: pointer;display: block;width: 100%;margin-bottom: 0;padding: 0.3em;box-sizing: border-box;text-align: center;}#sk-container-id-1 label.sk-toggleable__label-arrow:before {content: \"▸\";float: left;margin-right: 0.25em;color: #696969;}#sk-container-id-1 label.sk-toggleable__label-arrow:hover:before {color: black;}#sk-container-id-1 div.sk-estimator:hover label.sk-toggleable__label-arrow:before {color: black;}#sk-container-id-1 div.sk-toggleable__content {max-height: 0;max-width: 0;overflow: hidden;text-align: left;background-color: #f0f8ff;}#sk-container-id-1 div.sk-toggleable__content pre {margin: 0.2em;color: black;border-radius: 0.25em;background-color: #f0f8ff;}#sk-container-id-1 input.sk-toggleable__control:checked~div.sk-toggleable__content {max-height: 200px;max-width: 100%;overflow: auto;}#sk-container-id-1 input.sk-toggleable__control:checked~label.sk-toggleable__label-arrow:before {content: \"▾\";}#sk-container-id-1 div.sk-estimator input.sk-toggleable__control:checked~label.sk-toggleable__label {background-color: #d4ebff;}#sk-container-id-1 div.sk-label input.sk-toggleable__control:checked~label.sk-toggleable__label {background-color: #d4ebff;}#sk-container-id-1 input.sk-hidden--visually {border: 0;clip: rect(1px 1px 1px 1px);clip: rect(1px, 1px, 1px, 1px);height: 1px;margin: -1px;overflow: hidden;padding: 0;position: absolute;width: 1px;}#sk-container-id-1 div.sk-estimator {font-family: monospace;background-color: #f0f8ff;border: 1px dotted black;border-radius: 0.25em;box-sizing: border-box;margin-bottom: 0.5em;}#sk-container-id-1 div.sk-estimator:hover {background-color: #d4ebff;}#sk-container-id-1 div.sk-parallel-item::after {content: \"\";width: 100%;border-bottom: 1px solid gray;flex-grow: 1;}#sk-container-id-1 div.sk-label:hover label.sk-toggleable__label {background-color: #d4ebff;}#sk-container-id-1 div.sk-serial::before {content: \"\";position: absolute;border-left: 1px solid gray;box-sizing: border-box;top: 0;bottom: 0;left: 50%;z-index: 0;}#sk-container-id-1 div.sk-serial {display: flex;flex-direction: column;align-items: center;background-color: white;padding-right: 0.2em;padding-left: 0.2em;position: relative;}#sk-container-id-1 div.sk-item {position: relative;z-index: 1;}#sk-container-id-1 div.sk-parallel {display: flex;align-items: stretch;justify-content: center;background-color: white;position: relative;}#sk-container-id-1 div.sk-item::before, #sk-container-id-1 div.sk-parallel-item::before {content: \"\";position: absolute;border-left: 1px solid gray;box-sizing: border-box;top: 0;bottom: 0;left: 50%;z-index: -1;}#sk-container-id-1 div.sk-parallel-item {display: flex;flex-direction: column;z-index: 1;position: relative;background-color: white;}#sk-container-id-1 div.sk-parallel-item:first-child::after {align-self: flex-end;width: 50%;}#sk-container-id-1 div.sk-parallel-item:last-child::after {align-self: flex-start;width: 50%;}#sk-container-id-1 div.sk-parallel-item:only-child::after {width: 0;}#sk-container-id-1 div.sk-dashed-wrapped {border: 1px dashed gray;margin: 0 0.4em 0.5em 0.4em;box-sizing: border-box;padding-bottom: 0.4em;background-color: white;}#sk-container-id-1 div.sk-label label {font-family: monospace;font-weight: bold;display: inline-block;line-height: 1.2em;}#sk-container-id-1 div.sk-label-container {text-align: center;}#sk-container-id-1 div.sk-container {/* jupyter's `normalize.less` sets `[hidden] { display: none; }` but bootstrap.min.css set `[hidden] { display: none !important; }` so we also need the `!important` here to be able to override the default hidden behavior on the sphinx rendered scikit-learn.org. See: https://github.com/scikit-learn/scikit-learn/issues/21755 */display: inline-block !important;position: relative;}#sk-container-id-1 div.sk-text-repr-fallback {display: none;}</style><div id=\"sk-container-id-1\" class=\"sk-top-container\"><div class=\"sk-text-repr-fallback\"><pre>DecisionTreeClassifier(random_state=42)</pre><b>In a Jupyter environment, please rerun this cell to show the HTML representation or trust the notebook. <br />On GitHub, the HTML representation is unable to render, please try loading this page with nbviewer.org.</b></div><div class=\"sk-container\" hidden><div class=\"sk-item\"><div class=\"sk-estimator sk-toggleable\"><input class=\"sk-toggleable__control sk-hidden--visually\" id=\"sk-estimator-id-1\" type=\"checkbox\" checked><label for=\"sk-estimator-id-1\" class=\"sk-toggleable__label sk-toggleable__label-arrow\">DecisionTreeClassifier</label><div class=\"sk-toggleable__content\"><pre>DecisionTreeClassifier(random_state=42)</pre></div></div></div></div></div>"
            ]
          },
          "metadata": {},
          "execution_count": 24
        }
      ],
      "source": [
        "from sklearn.metrics import accuracy_score, classification_report, confusion_matrix\n",
        "from sklearn.tree import DecisionTreeClassifier\n",
        "dtree=DecisionTreeClassifier(criterion='gini', random_state=42)\n",
        "dtree.fit(X_train_scaled, y_train)"
      ]
    },
    {
      "cell_type": "markdown",
      "metadata": {
        "id": "G39BC56DMqYA"
      },
      "source": [
        "**Scoring Decision tree**"
      ]
    },
    {
      "cell_type": "code",
      "execution_count": null,
      "metadata": {
        "colab": {
          "base_uri": "https://localhost:8080/"
        },
        "id": "O58EGYJtMoE3",
        "outputId": "d958596f-726d-4ad2-d2de-b57e45e44cf5"
      },
      "outputs": [
        {
          "output_type": "stream",
          "name": "stdout",
          "text": [
            "0.9985800496982605\n",
            "0.7345635202271115\n"
          ]
        }
      ],
      "source": [
        "print(dtree.score(X_train_scaled, y_train))\n",
        "print(dtree.score(X_test_scaled, y_test))"
      ]
    },
    {
      "cell_type": "markdown",
      "metadata": {
        "id": "pZGqSgcIT7nd"
      },
      "source": [
        "**Reducing Overfitting-Regularization**"
      ]
    },
    {
      "cell_type": "code",
      "execution_count": null,
      "metadata": {
        "colab": {
          "base_uri": "https://localhost:8080/"
        },
        "id": "LXMFy9PsTkxG",
        "outputId": "95803b3c-56b9-4df2-99ba-94ac34d9ef2b"
      },
      "outputs": [
        {
          "output_type": "stream",
          "name": "stdout",
          "text": [
            "score train: 0.7889598864039759 \n",
            "\n",
            "\n",
            "Accuracy train: 0.7889598864039759 \n",
            "\n",
            "\n",
            "Classification train: \n",
            "\n",
            "               precision    recall  f1-score   support\n",
            "\n",
            "           0       0.80      0.94      0.87      4138\n",
            "           1       0.70      0.36      0.48      1496\n",
            "\n",
            "    accuracy                           0.79      5634\n",
            "   macro avg       0.75      0.65      0.67      5634\n",
            "weighted avg       0.78      0.79      0.76      5634\n",
            " \n",
            "\n",
            "\n",
            "Confusion Matrix train: \n",
            "\n",
            " [[3899  239]\n",
            " [ 950  546]] \n",
            "\n",
            "\n",
            "score test: 0.7955997161107168 \n",
            "\n",
            "\n",
            "Accuracy test: 0.7955997161107168 \n",
            "\n",
            "\n",
            "Classification test: \n",
            "\n",
            "               precision    recall  f1-score   support\n",
            "\n",
            "           0       0.81      0.94      0.87      1036\n",
            "           1       0.71      0.39      0.50       373\n",
            "\n",
            "    accuracy                           0.80      1409\n",
            "   macro avg       0.76      0.67      0.69      1409\n",
            "weighted avg       0.78      0.80      0.77      1409\n",
            " \n",
            "\n",
            "\n",
            "Confusion Matrix test: \n",
            "\n",
            " [[975  61]\n",
            " [227 146]]\n"
          ]
        }
      ],
      "source": [
        "dtreeR=DecisionTreeClassifier(criterion='gini', max_depth=3, random_state=42)\n",
        "dtreeR.fit(X_train_scaled, y_train)\n",
        "y_predict=dtreeR.predict(X_train_scaled)\n",
        "y_predict1=dtreeR.predict(X_test_scaled)\n",
        "print(\"score train:\", dtreeR.score(X_train_scaled, y_train), '\\n\\n')\n",
        "print(\"Accuracy train:\", accuracy_score(y_train, y_predict), '\\n\\n')\n",
        "print(\"Classification train:\",  '\\n\\n', classification_report(y_train, y_predict), '\\n\\n')\n",
        "print(\"Confusion Matrix train:\",  '\\n\\n', confusion_matrix(y_train, y_predict), '\\n\\n')\n",
        "print(\"score test:\", dtreeR.score(X_test_scaled, y_test), '\\n\\n')\n",
        "print(\"Accuracy test:\", accuracy_score(y_test, y_predict1), '\\n\\n')\n",
        "print(\"Classification test:\",'\\n\\n', classification_report(y_test, y_predict1), '\\n\\n')\n",
        "print(\"Confusion Matrix test:\",'\\n\\n', confusion_matrix(y_test, y_predict1))"
      ]
    },
    {
      "cell_type": "markdown",
      "metadata": {
        "id": "zo0lzuJKyBir"
      },
      "source": [
        "**B. Use grid search and improve the performance of the Decision tree model , check the performance of the model on train and test data , provide the differences observed in performance in Q3.a and Q3.b**"
      ]
    },
    {
      "cell_type": "code",
      "execution_count": null,
      "metadata": {
        "id": "cBlG15-ryA41"
      },
      "outputs": [],
      "source": [
        "from sklearn.model_selection import GridSearchCV # gridsearchCV is used for hyperparmeter tuning for model improvement."
      ]
    },
    {
      "cell_type": "code",
      "execution_count": null,
      "metadata": {
        "colab": {
          "base_uri": "https://localhost:8080/"
        },
        "id": "jm8hTGeaylI8",
        "outputId": "720ee8ef-f05e-4434-d90a-83c6fd25227f"
      },
      "outputs": [
        {
          "output_type": "stream",
          "name": "stdout",
          "text": [
            "Fitting 5 folds for each of 45 candidates, totalling 225 fits\n",
            "{'max_depth': 5, 'min_samples_leaf': 2, 'min_samples_split': 2}\n"
          ]
        }
      ],
      "source": [
        "#defining the parameter grid for GridSearchCV\n",
        "param_grid={'max_depth': [3,5,7,10, None], 'min_samples_split':[2,5,10], 'min_samples_leaf':[1,2,4]}\n",
        "\n",
        "#Initializing Decision tree model\n",
        "dtreegrid=DecisionTreeClassifier(random_state=42)\n",
        "\n",
        "#performing grid serach with cross validation\n",
        "grid_search=GridSearchCV(estimator=dtreegrid, param_grid=param_grid, cv=5, scoring='accuracy', n_jobs=-1, verbose=1)\n",
        "grid_search.fit(X_train_scaled, y_train)\n",
        "#obtaining the best parameters\n",
        "best_params=grid_search.best_params_\n",
        "print(best_params)"
      ]
    },
    {
      "cell_type": "code",
      "execution_count": null,
      "metadata": {
        "colab": {
          "base_uri": "https://localhost:8080/"
        },
        "id": "LDMNsSPb1jPb",
        "outputId": "90d39875-4ea3-4a28-ef6f-bc8f12142702"
      },
      "outputs": [
        {
          "output_type": "stream",
          "name": "stdout",
          "text": [
            "score train: 0.7988995385161519 \n",
            "\n",
            "\n",
            "Classification train: \n",
            "\n",
            "               precision    recall  f1-score   support\n",
            "\n",
            "           0       0.86      0.86      0.86      4138\n",
            "           1       0.62      0.62      0.62      1496\n",
            "\n",
            "    accuracy                           0.80      5634\n",
            "   macro avg       0.74      0.74      0.74      5634\n",
            "weighted avg       0.80      0.80      0.80      5634\n",
            " \n",
            "\n",
            "\n",
            "Confusion Matrix train: \n",
            "\n",
            " [[3578  560]\n",
            " [ 573  923]] \n",
            "\n",
            "\n",
            "score test: 0.8026969481902059 \n",
            "\n",
            "\n",
            "Classification test: \n",
            "\n",
            "               precision    recall  f1-score   support\n",
            "\n",
            "           0       0.87      0.86      0.86      1036\n",
            "           1       0.62      0.65      0.64       373\n",
            "\n",
            "    accuracy                           0.80      1409\n",
            "   macro avg       0.75      0.75      0.75      1409\n",
            "weighted avg       0.81      0.80      0.80      1409\n",
            " \n",
            "\n",
            "\n",
            "Confusion Matrix test: \n",
            "\n",
            " [[889 147]\n",
            " [131 242]]\n"
          ]
        }
      ],
      "source": [
        "#train the best model\n",
        "best_dtree=grid_search.best_estimator_\n",
        "\n",
        "y_predict_best=best_dtree.predict(X_train_scaled)\n",
        "y_predict_best1=best_dtree.predict(X_test_scaled)\n",
        "print(\"score train:\", best_dtree.score(X_train_scaled, y_train), '\\n\\n')\n",
        "print(\"Classification train:\",  '\\n\\n', classification_report(y_train, y_predict_best), '\\n\\n')\n",
        "print(\"Confusion Matrix train:\",  '\\n\\n', confusion_matrix(y_train, y_predict_best), '\\n\\n')\n",
        "print(\"score test:\", best_dtree.score(X_test_scaled, y_test), '\\n\\n')\n",
        "print(\"Classification test:\",'\\n\\n', classification_report(y_test, y_predict_best1), '\\n\\n')\n",
        "print(\"Confusion Matrix test:\",'\\n\\n', confusion_matrix(y_test, y_predict_best1))"
      ]
    },
    {
      "cell_type": "markdown",
      "source": [
        "Insights on the basic difference in decsion tree model before and after Tunning to decrease the overfitting and increase the overall performance based on various metrics.\n",
        "\n",
        "**Training performance before and After Tuning:**\n",
        "Accuracy: We can see that there is improvement in accuracy percentage from 0.7889 to 0.7989.\n",
        "\n",
        "Class 0 metrics(Non-Churn: customers likely to stay): The precision has increased from 0.80 to .86 and recall rate is decreased from 0.94 to 0.86. F1 score has slightly decreased.\n",
        "\n",
        "Class 1 (Churn: customers likely to leave): The precision has decreased from 0.70 to 0.62 and recall rate is increased from 0.36 to 0.62. F1 score has significantly increased.\n",
        "\n",
        "Confusion matrix: The no. of true positive on class 0 has decreased (3899 to 3578) and class 1 true negative increased (546 to 932), indicating a good balance in class predictions.\n",
        "\n",
        "\n",
        "**Testing Performance befor and After tune:**\n",
        "\n",
        "Accuracy: We can see that there is improvement in accuracy percentage from 0.7956 to 0.8027.\n",
        "\n",
        "Class 0 metrics(Non-Churn: customers likely to stay): The precision has increased from 0.81 to .87 and recall rate  and F1 score is stable 0.86.\n",
        "\n",
        "Class 1 (Churn: customers likely to leave): The precision has decreased from 0.71 to 0.62 and recall rate is increased from 0.39 to 0.65. F1 score has significantly increased to 0.64.\n",
        "\n",
        "Confusion matrix: The no. of true positive on class 0 has decreased (975 to 889) indiactes that the model is predicting non-churn correctly and class 1 true negative increased (146 to 242) model is telling the no. of customers churing are being correctly identified (positive outcome), indicating a good balance in class predictions.\n",
        "\n",
        "Overall: An increase in churning out will help the company to promote better targeted retention efforts on people who are likely to leave."
      ],
      "metadata": {
        "id": "5E5FZPHy-c08"
      }
    },
    {
      "cell_type": "markdown",
      "metadata": {
        "id": "IkvPHJ5U2rcQ"
      },
      "source": [
        "**C. Train a model using Random forest and check the performance of the model on train and test data.**"
      ]
    },
    {
      "cell_type": "code",
      "execution_count": null,
      "metadata": {
        "colab": {
          "base_uri": "https://localhost:8080/"
        },
        "id": "32hlp4dc5M8K",
        "outputId": "b38f6d5b-1387-4e73-e8fa-21b1df64650d"
      },
      "outputs": [
        {
          "output_type": "stream",
          "name": "stdout",
          "text": [
            "score train: 0.997515086971956 \n",
            "\n",
            "\n",
            "Accuracy train: 0.997515086971956 \n",
            "\n",
            "\n",
            "Classification train: \n",
            "\n",
            "               precision    recall  f1-score   support\n",
            "\n",
            "           0       1.00      1.00      1.00      4138\n",
            "           1       1.00      1.00      1.00      1496\n",
            "\n",
            "    accuracy                           1.00      5634\n",
            "   macro avg       1.00      1.00      1.00      5634\n",
            "weighted avg       1.00      1.00      1.00      5634\n",
            " \n",
            "\n",
            "\n",
            "Confusion Matrix train: \n",
            "\n",
            " [[4131    7]\n",
            " [   7 1489]] \n",
            "\n",
            "\n",
            "score test: 0.7877927608232789 \n",
            "\n",
            "\n",
            "Accuracy test: 0.7877927608232789 \n",
            "\n",
            "\n",
            "Classification test: \n",
            "\n",
            "               precision    recall  f1-score   support\n",
            "\n",
            "           0       0.82      0.91      0.86      1036\n",
            "           1       0.64      0.46      0.53       373\n",
            "\n",
            "    accuracy                           0.79      1409\n",
            "   macro avg       0.73      0.68      0.70      1409\n",
            "weighted avg       0.77      0.79      0.78      1409\n",
            " \n",
            "\n",
            "\n",
            "Confusion Matrix test: \n",
            "\n",
            " [[938  98]\n",
            " [201 172]]\n"
          ]
        }
      ],
      "source": [
        "from sklearn.ensemble import RandomForestClassifier\n",
        "\n",
        "#initialize the random forest model\n",
        "rf=RandomForestClassifier(n_estimators=50, random_state=42)\n",
        "rf.fit(X_train_scaled, y_train)\n",
        "y_predict_rf=rf.predict(X_train_scaled)\n",
        "y_predict1_rf=rf.predict(X_test_scaled)\n",
        "print(\"score train:\", rf.score(X_train_scaled, y_train), '\\n\\n')\n",
        "print(\"Accuracy train:\", accuracy_score(y_train, y_predict_rf), '\\n\\n')\n",
        "print(\"Classification train:\",  '\\n\\n', classification_report(y_train, y_predict_rf), '\\n\\n')\n",
        "print(\"Confusion Matrix train:\",  '\\n\\n', confusion_matrix(y_train, y_predict_rf), '\\n\\n')\n",
        "print(\"score test:\", rf.score(X_test_scaled, y_test), '\\n\\n')\n",
        "print(\"Accuracy test:\", accuracy_score(y_test, y_predict1_rf), '\\n\\n')\n",
        "print(\"Classification test:\",'\\n\\n', classification_report(y_test, y_predict1_rf), '\\n\\n')\n",
        "print(\"Confusion Matrix test:\",'\\n\\n', confusion_matrix(y_test, y_predict1_rf))"
      ]
    },
    {
      "cell_type": "markdown",
      "metadata": {
        "id": "sR2YuZeb-YiW"
      },
      "source": [
        "**D.Use grid search and improve the performance of the Random tree model,**\n",
        "**check the performance of the model on train and test data , provide the** **differences observed in performance in Q3.c and Q3.d**"
      ]
    },
    {
      "cell_type": "code",
      "execution_count": null,
      "metadata": {
        "colab": {
          "base_uri": "https://localhost:8080/"
        },
        "id": "qudTyEcI-PCw",
        "outputId": "d0f51b99-b0bc-4391-cca7-44b16f63153d"
      },
      "outputs": [
        {
          "output_type": "stream",
          "name": "stdout",
          "text": [
            "Fitting 5 folds for each of 180 candidates, totalling 900 fits\n",
            "{'max_depth': 20, 'min_samples_leaf': 4, 'min_samples_split': 10, 'n_estimators': 200}\n"
          ]
        }
      ],
      "source": [
        "#defining the parameter grid for GridSearchCV\n",
        "param_grid={'n_estimators':[50, 100,150,200,300], 'max_depth': [None, 10, 20, 30], 'min_samples_split':[2,5,10], 'min_samples_leaf':[1,2,4]}\n",
        "\n",
        "#Initializing Randomforest tree model\n",
        "rfgrid=RandomForestClassifier(random_state=42)\n",
        "\n",
        "#performing grid search with cross validation\n",
        "grid_search=GridSearchCV(estimator=rfgrid, param_grid=param_grid, cv=5, scoring='accuracy', n_jobs=-1, verbose=1)\n",
        "grid_search.fit(X_train_scaled, y_train)\n",
        "#obtaining the best parameters\n",
        "best_params=grid_search.best_params_\n",
        "print(best_params)"
      ]
    },
    {
      "cell_type": "code",
      "execution_count": null,
      "metadata": {
        "colab": {
          "base_uri": "https://localhost:8080/"
        },
        "id": "LQbwMCoOGqb1",
        "outputId": "a65fcd79-c46e-48c0-8d76-07a2fe3f1c25"
      },
      "outputs": [
        {
          "output_type": "stream",
          "name": "stdout",
          "text": [
            "0.8049337983706882\n"
          ]
        }
      ],
      "source": [
        "best_score=grid_search.best_score_\n",
        "print(best_score)"
      ]
    },
    {
      "cell_type": "code",
      "execution_count": null,
      "metadata": {
        "colab": {
          "base_uri": "https://localhost:8080/"
        },
        "id": "PNpAydLhCXXM",
        "outputId": "4a17e701-9e79-4fe1-8761-986d4de5b6ee"
      },
      "outputs": [
        {
          "output_type": "stream",
          "name": "stdout",
          "text": [
            "score train: 0.8693645722399717 \n",
            "\n",
            "\n",
            "Classification train: \n",
            "\n",
            "               precision    recall  f1-score   support\n",
            "\n",
            "           0       0.88      0.95      0.91      4138\n",
            "           1       0.83      0.64      0.72      1496\n",
            "\n",
            "    accuracy                           0.87      5634\n",
            "   macro avg       0.86      0.80      0.82      5634\n",
            "weighted avg       0.87      0.87      0.86      5634\n",
            " \n",
            "\n",
            "\n",
            "Confusion Matrix train: \n",
            "\n",
            " [[3944  194]\n",
            " [ 542  954]] \n",
            "\n",
            "\n",
            "score test: 0.8133427963094393 \n",
            "\n",
            "\n",
            "Classification test: \n",
            "\n",
            "               precision    recall  f1-score   support\n",
            "\n",
            "           0       0.84      0.92      0.88      1036\n",
            "           1       0.70      0.51      0.59       373\n",
            "\n",
            "    accuracy                           0.81      1409\n",
            "   macro avg       0.77      0.72      0.74      1409\n",
            "weighted avg       0.80      0.81      0.80      1409\n",
            " \n",
            "\n",
            "\n",
            "Confusion Matrix test: \n",
            "\n",
            " [[954  82]\n",
            " [181 192]]\n"
          ]
        }
      ],
      "source": [
        "#train the best model\n",
        "best_rf=grid_search.best_estimator_\n",
        "\n",
        "y_predict_bestrf=best_rf.predict(X_train_scaled)\n",
        "y_predict_bestrf1=best_rf.predict(X_test_scaled)\n",
        "print(\"score train:\", best_rf.score(X_train_scaled, y_train), '\\n\\n')\n",
        "print(\"Classification train:\",  '\\n\\n', classification_report(y_train, y_predict_bestrf), '\\n\\n')\n",
        "print(\"Confusion Matrix train:\",  '\\n\\n', confusion_matrix(y_train, y_predict_bestrf), '\\n\\n')\n",
        "print(\"score test:\", best_rf.score(X_test_scaled, y_test), '\\n\\n')\n",
        "print(\"Classification test:\",'\\n\\n', classification_report(y_test, y_predict_bestrf1), '\\n\\n')\n",
        "print(\"Confusion Matrix test:\",'\\n\\n', confusion_matrix(y_test, y_predict_bestrf1))"
      ]
    },
    {
      "cell_type": "markdown",
      "source": [
        "**Observed Difference before and After tuning-Random Forest:**\n",
        "\n",
        "Training performance:\n",
        "\n",
        "Accuracy: decrease from 0.99 to 0.869 after tuning, inidcating overfitting before tuning on training data.\n",
        "\n",
        "Precision, Recall and F1-score: All the metrics have decreased after tuning.\n",
        "\n",
        "Confusion matrix: There is an increase in false negative and false positive after tuning.\n",
        "\n",
        "Testing performance:\n",
        "\n",
        "Accuracy: decrease from 0.78 to 0.813 after tuning.\n",
        "\n",
        "Precision: Increased in both classes, Recall and F1: Increased on both, but more on class 1 (churn).\n",
        "\n",
        "Confusion matrix: There is an decrease in false negative and false positive after tuning.\n",
        "\n",
        "Overall: After tuning the model performance was decreased, indiacting the model was adjusted over the overfitting on training data performance. Howevere on test data there is increase in performance metrics suggesting better generalization on unseen data."
      ],
      "metadata": {
        "id": "c4nn8qh6Fevf"
      }
    },
    {
      "cell_type": "markdown",
      "metadata": {
        "id": "FGAntCtKED71"
      },
      "source": [
        "**E. Train a model using Adaboost and check the performance of the model on train and test data**"
      ]
    },
    {
      "cell_type": "code",
      "execution_count": null,
      "metadata": {
        "id": "gST_jE4sEHQn"
      },
      "outputs": [],
      "source": [
        "from sklearn.ensemble import AdaBoostClassifier"
      ]
    },
    {
      "cell_type": "code",
      "execution_count": null,
      "metadata": {
        "colab": {
          "base_uri": "https://localhost:8080/"
        },
        "id": "Wu_yvxofEUyB",
        "outputId": "fe2958d9-3f74-4ad5-f979-385609579c8d"
      },
      "outputs": [
        {
          "output_type": "stream",
          "name": "stdout",
          "text": [
            "score train: 0.8004969826056088 \n",
            "\n",
            "\n",
            "Classification train: \n",
            "\n",
            "               precision    recall  f1-score   support\n",
            "\n",
            "           0       0.83      0.92      0.87      4138\n",
            "           1       0.68      0.47      0.55      1496\n",
            "\n",
            "    accuracy                           0.80      5634\n",
            "   macro avg       0.75      0.69      0.71      5634\n",
            "weighted avg       0.79      0.80      0.79      5634\n",
            " \n",
            "\n",
            "\n",
            "Confusion Matrix train: \n",
            "\n",
            " [[3810  328]\n",
            " [ 796  700]] \n",
            "\n",
            "\n",
            "score test: 0.8048261178140526 \n",
            "\n",
            "\n",
            "Classification test: \n",
            "\n",
            "               precision    recall  f1-score   support\n",
            "\n",
            "           0       0.83      0.92      0.87      1036\n",
            "           1       0.68      0.49      0.57       373\n",
            "\n",
            "    accuracy                           0.80      1409\n",
            "   macro avg       0.76      0.70      0.72      1409\n",
            "weighted avg       0.79      0.80      0.79      1409\n",
            " \n",
            "\n",
            "\n",
            "Confusion Matrix test: \n",
            "\n",
            " [[951  85]\n",
            " [190 183]]\n"
          ]
        }
      ],
      "source": [
        "#initialize the Adaboost model\n",
        "ada=AdaBoostClassifier(n_estimators=100, learning_rate=0.1, random_state=42)\n",
        "ada.fit(X_train_scaled, y_train)\n",
        "y_predict_ada=ada.predict(X_train_scaled)\n",
        "y_predict1_ada=ada.predict(X_test_scaled)\n",
        "print(\"score train:\", ada.score(X_train_scaled, y_train), '\\n\\n')\n",
        "print(\"Classification train:\",  '\\n\\n', classification_report(y_train, y_predict_ada), '\\n\\n')\n",
        "print(\"Confusion Matrix train:\",  '\\n\\n', confusion_matrix(y_train, y_predict_ada), '\\n\\n')\n",
        "print(\"score test:\", ada.score(X_test_scaled, y_test), '\\n\\n')\n",
        "print(\"Classification test:\",'\\n\\n', classification_report(y_test, y_predict1_ada), '\\n\\n')\n",
        "print(\"Confusion Matrix test:\",'\\n\\n', confusion_matrix(y_test, y_predict1_ada))"
      ]
    },
    {
      "cell_type": "markdown",
      "metadata": {
        "id": "0jY4o55jEpCE"
      },
      "source": [
        "**F. Use grid search and improve the performance of the Adaboost model,check the performance of the model on train and test data, provide the differences observed in performance in Q3.e and Q3.f**"
      ]
    },
    {
      "cell_type": "code",
      "execution_count": null,
      "metadata": {
        "colab": {
          "base_uri": "https://localhost:8080/"
        },
        "id": "opYHkVb4Ezi0",
        "outputId": "cb3a1e15-53ff-4b94-e38e-48eaa5198095"
      },
      "outputs": [
        {
          "output_type": "stream",
          "name": "stdout",
          "text": [
            "Fitting 5 folds for each of 15 candidates, totalling 75 fits\n",
            "{'learning_rate': 1, 'n_estimators': 50}\n"
          ]
        }
      ],
      "source": [
        "#defining the parameter grid for GridSearchCV\n",
        "param_grid={'n_estimators':[50, 100,200], 'learning_rate':[0.01,0.1,1,1.5,2]}\n",
        "\n",
        "#Initializing Adaboost model\n",
        "adagrid=AdaBoostClassifier(random_state=42)\n",
        "\n",
        "#performing grid serach with cross validation\n",
        "grid_search=GridSearchCV(estimator=adagrid, param_grid=param_grid, cv=5, scoring='accuracy', n_jobs=-1, verbose=1)\n",
        "grid_search.fit(X_train_scaled, y_train)\n",
        "#obtaining the best parameters\n",
        "best_params=grid_search.best_params_\n",
        "print(best_params)"
      ]
    },
    {
      "cell_type": "code",
      "execution_count": null,
      "metadata": {
        "colab": {
          "base_uri": "https://localhost:8080/"
        },
        "id": "fEVGzOnTIWnf",
        "outputId": "4c298cb8-b533-4e80-b2de-5f0cdfbfd3eb"
      },
      "outputs": [
        {
          "output_type": "stream",
          "name": "stdout",
          "text": [
            "score train: 0.8074192403265885 \n",
            "\n",
            "\n",
            "Classification train: \n",
            "\n",
            "               precision    recall  f1-score   support\n",
            "\n",
            "           0       0.84      0.91      0.87      4138\n",
            "           1       0.67      0.54      0.60      1496\n",
            "\n",
            "    accuracy                           0.81      5634\n",
            "   macro avg       0.76      0.72      0.74      5634\n",
            "weighted avg       0.80      0.81      0.80      5634\n",
            " \n",
            "\n",
            "\n",
            "Confusion Matrix train: \n",
            "\n",
            " [[3745  393]\n",
            " [ 692  804]] \n",
            "\n",
            "\n",
            "score test: 0.8140525195173882 \n",
            "\n",
            "\n",
            "Classification test: \n",
            "\n",
            "               precision    recall  f1-score   support\n",
            "\n",
            "           0       0.85      0.90      0.88      1036\n",
            "           1       0.68      0.57      0.62       373\n",
            "\n",
            "    accuracy                           0.81      1409\n",
            "   macro avg       0.76      0.74      0.75      1409\n",
            "weighted avg       0.81      0.81      0.81      1409\n",
            " \n",
            "\n",
            "\n",
            "Confusion Matrix test: \n",
            "\n",
            " [[933 103]\n",
            " [159 214]]\n"
          ]
        }
      ],
      "source": [
        "#train the best model\n",
        "best_ada=grid_search.best_estimator_\n",
        "\n",
        "y_predict_bestada=best_ada.predict(X_train_scaled)\n",
        "y_predict_bestada1=best_ada.predict(X_test_scaled)\n",
        "print(\"score train:\", best_ada.score(X_train_scaled, y_train), '\\n\\n')\n",
        "print(\"Classification train:\",  '\\n\\n', classification_report(y_train, y_predict_bestada), '\\n\\n')\n",
        "print(\"Confusion Matrix train:\",  '\\n\\n', confusion_matrix(y_train, y_predict_bestada), '\\n\\n')\n",
        "print(\"score test:\", best_ada.score(X_test_scaled, y_test), '\\n\\n')\n",
        "print(\"Classification test:\",'\\n\\n', classification_report(y_test, y_predict_bestada1), '\\n\\n')\n",
        "print(\"Confusion Matrix test:\",'\\n\\n', confusion_matrix(y_test, y_predict_bestada1))"
      ]
    },
    {
      "cell_type": "markdown",
      "source": [
        "**AdaBoost Overall performance Before and After Tuning:**\n",
        "\n",
        "Accurcay:\n",
        "Training: Adaboost didnt have overfitting of training data and the accuracy before and after tune performed good. Increase is seen after tuning ie., 0.8005 to 0.8074\n",
        "Testing: Increase on testing data from 0.8048 to 0.8141. Adaboost tuned to bes the best model having highest accuracy.\n",
        "\n",
        "Precsion, Recall and F1-score:\n",
        "\n",
        "Class 0(non-churn): precsion and recall remained stable, with minor improvedment on testing precsion and decrease in recall on testing.\n",
        "\n",
        "Class 1 (churn): Notable improvement is seen on recall  training (.47 to 0.54) and testing (0.49 to 0.57). F1 training (.55 to 0.60) and testing (0.57 to 0.62)\n",
        "\n",
        "Confusion Matrix: Decrease in TN and Increase in FP on class 0 after tuning. This indicates a conservative approach towards classifying the class 0.\n",
        "\n",
        "Class 1: Decrease in FN and increase in TP, indicating better detection on churn.\n",
        "\n",
        "Overall: Adaboost seems to have overall improved its performance on accuracy after tuning and detecting class 1 (churn) instances."
      ],
      "metadata": {
        "id": "AF7BBCIQJEmq"
      }
    },
    {
      "cell_type": "markdown",
      "metadata": {
        "id": "-jxB5PM6I2cb"
      },
      "source": [
        "**G. Train a model using GradientBoost and check the performance of the model on train and test data**"
      ]
    },
    {
      "cell_type": "code",
      "execution_count": null,
      "metadata": {
        "id": "xDlYFvpCI4GW"
      },
      "outputs": [],
      "source": [
        "from sklearn.ensemble import GradientBoostingClassifier"
      ]
    },
    {
      "cell_type": "code",
      "execution_count": null,
      "metadata": {
        "colab": {
          "base_uri": "https://localhost:8080/"
        },
        "id": "4kpIhT2gJCY8",
        "outputId": "f1340578-fd1c-4270-b9b0-d26be750f8ff"
      },
      "outputs": [
        {
          "output_type": "stream",
          "name": "stdout",
          "text": [
            "score train: 0.8138090166844161 \n",
            "\n",
            "\n",
            "Classification train: \n",
            "\n",
            "               precision    recall  f1-score   support\n",
            "\n",
            "           0       0.84      0.92      0.88      4138\n",
            "           1       0.70      0.52      0.60      1496\n",
            "\n",
            "    accuracy                           0.81      5634\n",
            "   macro avg       0.77      0.72      0.74      5634\n",
            "weighted avg       0.80      0.81      0.80      5634\n",
            " \n",
            "\n",
            "\n",
            "Confusion Matrix train: \n",
            "\n",
            " [[3801  337]\n",
            " [ 712  784]] \n",
            "\n",
            "\n",
            "score test: 0.8147622427253371 \n",
            "\n",
            "\n",
            "Classification test: \n",
            "\n",
            "               precision    recall  f1-score   support\n",
            "\n",
            "           0       0.85      0.92      0.88      1036\n",
            "           1       0.70      0.53      0.60       373\n",
            "\n",
            "    accuracy                           0.81      1409\n",
            "   macro avg       0.77      0.72      0.74      1409\n",
            "weighted avg       0.81      0.81      0.81      1409\n",
            " \n",
            "\n",
            "\n",
            "Confusion Matrix test: \n",
            "\n",
            " [[949  87]\n",
            " [174 199]]\n"
          ]
        }
      ],
      "source": [
        "#Initialize the GradientBoost model\n",
        "GB=GradientBoostingClassifier(n_estimators=50, learning_rate=0.1, random_state=42)\n",
        "GB.fit(X_train_scaled, y_train)\n",
        "y_predict_GB=GB.predict(X_train_scaled)\n",
        "y_predict1_GB=GB.predict(X_test_scaled)\n",
        "print(\"score train:\", GB.score(X_train_scaled, y_train), '\\n\\n')\n",
        "print(\"Classification train:\",  '\\n\\n', classification_report(y_train, y_predict_GB), '\\n\\n')\n",
        "print(\"Confusion Matrix train:\",  '\\n\\n', confusion_matrix(y_train, y_predict_GB), '\\n\\n')\n",
        "print(\"score test:\", GB.score(X_test_scaled, y_test), '\\n\\n')\n",
        "print(\"Classification test:\",'\\n\\n', classification_report(y_test, y_predict1_GB), '\\n\\n')\n",
        "print(\"Confusion Matrix test:\",'\\n\\n', confusion_matrix(y_test, y_predict1_GB))"
      ]
    },
    {
      "cell_type": "markdown",
      "metadata": {
        "id": "uYuNPGvIKhYc"
      },
      "source": [
        "**H. Use grid search and improve the performance of the GradientBoostmodel, check the performance of the model on train and test data, provide the differences observed in performance in Q3.g and Q3.h**"
      ]
    },
    {
      "cell_type": "code",
      "execution_count": null,
      "metadata": {
        "colab": {
          "base_uri": "https://localhost:8080/"
        },
        "id": "Oqgfy9VJKov4",
        "outputId": "c17a252c-9a35-4eaa-94f3-7a4e6be3bd43"
      },
      "outputs": [
        {
          "output_type": "stream",
          "name": "stdout",
          "text": [
            "Fitting 5 folds for each of 243 candidates, totalling 1215 fits\n",
            "{'learning_rate': 0.1, 'max_depth': 3, 'min_samples_leaf': 4, 'min_samples_split': 2, 'n_estimators': 50}\n"
          ]
        }
      ],
      "source": [
        "#defining the parameter grid for GridSearchCV\n",
        "param_grid={'n_estimators':[50, 100,150], 'learning_rate':[0.01,0.1,1], 'max_depth': [3,5,7], 'min_samples_split':[2,5,10], 'min_samples_leaf':[1,2,4] }\n",
        "\n",
        "#Initializing Adaboost model\n",
        "GBgrid=GradientBoostingClassifier(random_state=42)\n",
        "\n",
        "#performing grid serach with cross validation\n",
        "grid_search=GridSearchCV(estimator=GBgrid, param_grid=param_grid, cv=5, scoring='accuracy', n_jobs=-1, verbose=1)\n",
        "grid_search.fit(X_train_scaled, y_train)\n",
        "#obtaining the best parameters\n",
        "best_params=grid_search.best_params_\n",
        "print(best_params)"
      ]
    },
    {
      "cell_type": "code",
      "source": [
        "#train the best model\n",
        "best_GB=grid_search.best_estimator_\n",
        "\n",
        "y_predict_bestGB=best_GB.predict(X_train_scaled)\n",
        "y_predict_bestGB1=best_GB.predict(X_test_scaled)\n",
        "print(\"score train:\", best_GB.score(X_train_scaled, y_train), '\\n\\n')\n",
        "print(\"Classification train:\",  '\\n\\n', classification_report(y_train, y_predict_bestGB), '\\n\\n')\n",
        "print(\"Confusion Matrix train:\",  '\\n\\n', confusion_matrix(y_train, y_predict_bestGB), '\\n\\n')\n",
        "print(\"score test:\", best_GB.score(X_test_scaled, y_test), '\\n\\n')\n",
        "print(\"Classification test:\",'\\n\\n', classification_report(y_test, y_predict_bestGB1), '\\n\\n')\n",
        "print(\"Confusion Matrix test:\",'\\n\\n', confusion_matrix(y_test, y_predict_bestGB1))"
      ],
      "metadata": {
        "colab": {
          "base_uri": "https://localhost:8080/"
        },
        "id": "wDJgkxaDHUb7",
        "outputId": "c0cfa491-1bac-40ce-ae3d-a03959522ee0"
      },
      "execution_count": null,
      "outputs": [
        {
          "output_type": "stream",
          "name": "stdout",
          "text": [
            "score train: 0.8122115725949591 \n",
            "\n",
            "\n",
            "Classification train: \n",
            "\n",
            "               precision    recall  f1-score   support\n",
            "\n",
            "           0       0.84      0.92      0.88      4138\n",
            "           1       0.70      0.52      0.60      1496\n",
            "\n",
            "    accuracy                           0.81      5634\n",
            "   macro avg       0.77      0.72      0.74      5634\n",
            "weighted avg       0.80      0.81      0.80      5634\n",
            " \n",
            "\n",
            "\n",
            "Confusion Matrix train: \n",
            "\n",
            " [[3798  340]\n",
            " [ 718  778]] \n",
            "\n",
            "\n",
            "score test: 0.8112136266855926 \n",
            "\n",
            "\n",
            "Classification test: \n",
            "\n",
            "               precision    recall  f1-score   support\n",
            "\n",
            "           0       0.84      0.91      0.88      1036\n",
            "           1       0.69      0.53      0.60       373\n",
            "\n",
            "    accuracy                           0.81      1409\n",
            "   macro avg       0.77      0.72      0.74      1409\n",
            "weighted avg       0.80      0.81      0.80      1409\n",
            " \n",
            "\n",
            "\n",
            "Confusion Matrix test: \n",
            "\n",
            " [[947  89]\n",
            " [177 196]]\n"
          ]
        }
      ]
    },
    {
      "cell_type": "markdown",
      "source": [
        "**Gradient boost overall perfprmance before and after tuning:**\n",
        "\n",
        "Accuracy: No siginificant change.\n",
        "Before tuning:0.8148\n",
        "After:0.8112\n",
        "Difference:-0.0036\n",
        "\n",
        "Precision non churn: No siginificant change.\n",
        "Before tuning:0.85\n",
        "After:0.84\n",
        "Difference:-0.01\n",
        "\n",
        "Recall non churn: No siginificant change.\n",
        "Before tuning:0.92\n",
        "After:0.91\n",
        "Difference:-0.01\n",
        "\n",
        "F1 non churn: no change.\n",
        "\n",
        "Precision churn: No siginificant change.\n",
        "Before tuning:0.70\n",
        "After:0.69\n",
        "Difference:-0.01\n",
        "\n",
        "Recall and F1 churn: siginificant change.\n",
        "\n",
        "Overall observed difference are so minimal, with ver slight decrease in precision, recall on class 0 and only precision on class 1. All these suggest that the tuning has no much impact on the model performance.\n",
        "\n",
        "\n"
      ],
      "metadata": {
        "id": "nJPd-v6OL8vK"
      }
    },
    {
      "cell_type": "markdown",
      "source": [
        "**I. Provide detailed analysis of the below steps**"
      ],
      "metadata": {
        "id": "eSpJixznIJRe"
      }
    },
    {
      "cell_type": "markdown",
      "source": [
        "(1) Compare the performance of each model in train stage and test stage"
      ],
      "metadata": {
        "id": "yQI-i4VBIT2U"
      }
    },
    {
      "cell_type": "code",
      "source": [
        "from sklearn.metrics import precision_score, recall_score\n",
        "# before and Ater tuning\n",
        "#Decision tree_test\n",
        "\n",
        "dec_test=accuracy_score(y_test, y_predict1)\n",
        "decp_test=precision_score(y_test, y_predict1)\n",
        "decr_test=recall_score(y_test, y_predict1)\n",
        "\n",
        "#grid_decision tree_test\n",
        "dec_test1= accuracy_score(y_test, y_predict_best1)\n",
        "decp_test1= precision_score(y_test, y_predict_best1)\n",
        "decr_test1= recall_score(y_test, y_predict_best1)\n",
        "\n",
        "\n",
        "#Random Forest_test\n",
        "rf_test=accuracy_score(y_test, y_predict1_rf)\n",
        "rfp_test=precision_score(y_test, y_predict1_rf)\n",
        "rfr_test=recall_score(y_test, y_predict1_rf)\n",
        "\n",
        "#grid_Random Forest_test\n",
        "rf_test1= accuracy_score(y_test, y_predict_bestrf1)\n",
        "rfp_test1= precision_score(y_test, y_predict_bestrf1)\n",
        "rfr_test1= recall_score(y_test, y_predict_bestrf1)\n",
        "\n",
        "# AdaBoost_test\n",
        "ada_test=accuracy_score(y_test, y_predict1_ada)\n",
        "adap_test=precision_score(y_test, y_predict1_ada)\n",
        "adar_test=recall_score(y_test, y_predict1_ada)\n",
        "\n",
        "\n",
        "# grid_AdaBoost_test\n",
        "ada_test1= accuracy_score(y_test, y_predict_bestada1)\n",
        "adap_test1= precision_score(y_test, y_predict_bestada1)\n",
        "adar_test1= recall_score(y_test, y_predict_bestada1)\n",
        "\n",
        "\n",
        "#Gradient Boost_test\n",
        "GB_test=accuracy_score(y_test, y_predict1_GB)\n",
        "GBp_test=precision_score(y_test, y_predict1_GB)\n",
        "GBr_test=recall_score(y_test, y_predict1_GB)\n",
        "\n",
        "\n",
        "\n",
        "#grid_Gradient Boost_test\n",
        "\n",
        "GB_test1= accuracy_score(y_test, y_predict_bestGB1)\n",
        "GBp_test1= precision_score(y_test, y_predict_bestGB1)\n",
        "GBr_test1= recall_score(y_test, y_predict_bestGB1)\n",
        "\n",
        "#Test_Performance_before tuned\n",
        "r1=pd.DataFrame({'Method':['Decision Tree'], 'Accuracy':[dec_test], 'Precision':[decp_test], 'Recall':[decr_test]})\n",
        "r2=pd.DataFrame({'Method':['Random Forest'], 'Accuracy':[rf_test], 'Precision':[rfp_test], 'Recall':[rfr_test]})\n",
        "r3=pd.DataFrame({'Method': ['Ada Boost'], 'Accuracy':[ada_test], 'Precision':[adap_test], 'Recall':[adar_test]})\n",
        "r4=pd.DataFrame({'Method':  ['GradientBoost'], 'Accuracy':[GB_test], 'Precision':[GBp_test], 'Recall':[GBr_test]})\n",
        "#Result_test_before_tuned\n",
        "Resulttest=pd.concat([r1,r2,r3,r4])\n",
        "Resulttest=Resulttest[['Method', 'Accuracy', 'Precision', 'Recall']]\n",
        "\n",
        "#Test_performance_tuned\n",
        "r5=pd.DataFrame({'Method':['Decision Tree'], 'Accuracy':[dec_test1], 'Precision':[decp_test1], 'Recall':[decr_test1]})\n",
        "r6=pd.DataFrame({'Method':['Random Forest'], 'Accuracy':[rf_test1], 'Precision':[rfp_test1], 'Recall':[rfr_test1]})\n",
        "r7=pd.DataFrame({'Method': ['Ada Boost'], 'Accuracy':[ada_test1], 'Precision':[adap_test1], 'Recall':[adar_test1]})\n",
        "r8=pd.DataFrame({'Method':  ['GradientBoost'], 'Accuracy':[GB_test1], 'Precision':[GBp_test1], 'Recall':[GBr_test1]})\n",
        "\n",
        "#Result_test_tuned\n",
        "Resulttest1=pd.concat([r5,r6,r7,r8])\n",
        "Resulttest1=Resulttest1[['Method', 'Accuracy', 'Precision', 'Recall']]\n",
        "\n",
        "#print before Tune and after tune test data model performance\n",
        "print('Test:', '\\n\\n',  Resulttest, '\\n\\n')\n",
        "print('Test tuned:', '\\n\\n', Resulttest1)"
      ],
      "metadata": {
        "colab": {
          "base_uri": "https://localhost:8080/"
        },
        "id": "jYKxPZCjIVoT",
        "outputId": "de425bec-2873-4784-c33c-b3fbb729dae1"
      },
      "execution_count": null,
      "outputs": [
        {
          "output_type": "stream",
          "name": "stdout",
          "text": [
            "Test: \n",
            "\n",
            "           Method  Accuracy  Precision    Recall\n",
            "0  Decision Tree  0.795600   0.705314  0.391421\n",
            "0  Random Forest  0.787793   0.637037  0.461126\n",
            "0      Ada Boost  0.804826   0.682836  0.490617\n",
            "0  GradientBoost  0.814762   0.695804  0.533512 \n",
            "\n",
            "\n",
            "Test tuned: \n",
            "\n",
            "           Method  Accuracy  Precision    Recall\n",
            "0  Decision Tree  0.802697   0.622108  0.648794\n",
            "0  Random Forest  0.813343   0.700730  0.514745\n",
            "0      Ada Boost  0.814053   0.675079  0.573727\n",
            "0  GradientBoost  0.811214   0.687719  0.525469\n"
          ]
        }
      ]
    },
    {
      "cell_type": "markdown",
      "source": [
        "**(2) Provide your observation on which model performed the best**"
      ],
      "metadata": {
        "id": "e0g_ORSUaP_p"
      }
    },
    {
      "cell_type": "markdown",
      "source": [
        "Based on the above observation before and after tuning for testing data, if the model performance on testing data is chosen based on **Accuracy**: Although all the models performed equally good with testing data after tuning comparative to the before tuned testing.Before tuning training data which mostly had overfitting. Among them the **AdaBoost** on tuning has a best accuracy (0.8141) ,followed by the others.\n",
        "\n",
        "On the basis of precision: Random forest with (0.7007) has the high precision rate on tuned testing data.\n",
        "\n",
        "Recall: Decision tree with 0.649 has high positive instances, followed by Adaboost (0.5737) on tuned testing data."
      ],
      "metadata": {
        "id": "QLWHadhEhr7o"
      }
    },
    {
      "cell_type": "markdown",
      "source": [
        "**(3) Provide your reasoning on why the model performed best**"
      ],
      "metadata": {
        "id": "OxGsouEIUUvG"
      }
    },
    {
      "cell_type": "markdown",
      "source": [
        "**AdaBoost**: ***It has the highest accuracy, which is crucial metrics for overall model performance. Also, though they dont have the highest precision or recall rate individually, it has maintained a good balance leading to overall strong performance. We can also see that the testing accuracy before and after tune is almost the same which indicates no overfit of data.***\n",
        "\n",
        "Random Forest: It has the highest precision rate indicating the minimization of false positive. Also next to adaboost it also has high accuracy. Here the tuned testing data precision performed well than the before testing.\n",
        "\n",
        "Decision tree: has more recall rate indicating it might identify more true positive. However their accuracy and precision being lower indicates more false positive and therby lowering overall performance.\n",
        "\n",
        "GradientBoost:It shows good balance on precision and recall, however there is less comparative to Adaboost and RandomForest. Also there is no significant changes observed."
      ],
      "metadata": {
        "id": "KGFb2j0OUZoo"
      }
    },
    {
      "cell_type": "markdown",
      "source": [
        "**(4) Provide your final conclusion on your observation**"
      ],
      "metadata": {
        "id": "5x9v1ZnXWmQ8"
      }
    },
    {
      "cell_type": "markdown",
      "source": [
        "Adaboost tuned emerges as the best model based on accuracy on testing data. It has a good balance between Accuracy, precsion, recall making it more reliable and robust model for classification task. Also, the train and the test data performance is almost same indicating good generalization capabilities and minimal overfitting of data."
      ],
      "metadata": {
        "id": "Hb6jdEc0WqTU"
      }
    }
  ],
  "metadata": {
    "colab": {
      "provenance": []
    },
    "kernelspec": {
      "display_name": "Python 3",
      "name": "python3"
    },
    "language_info": {
      "name": "python"
    }
  },
  "nbformat": 4,
  "nbformat_minor": 0
}